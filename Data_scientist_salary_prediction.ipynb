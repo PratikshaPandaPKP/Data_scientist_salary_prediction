{
 "cells": [
  {
   "cell_type": "markdown",
   "id": "00326735",
   "metadata": {
    "papermill": {
     "duration": 0.046178,
     "end_time": "2023-04-21T05:41:29.176047",
     "exception": false,
     "start_time": "2023-04-21T05:41:29.129869",
     "status": "completed"
    },
    "tags": []
   },
   "source": [
    "# Data Scientist Salary Prediction 2023"
   ]
  },
  {
   "cell_type": "markdown",
   "id": "fefe2e87",
   "metadata": {
    "papermill": {
     "duration": 0.02878,
     "end_time": "2023-04-21T05:41:30.621197",
     "exception": false,
     "start_time": "2023-04-21T05:41:30.592417",
     "status": "completed"
    },
    "tags": []
   },
   "source": [
    "# 1. Understanding Data\n"
   ]
  },
  {
   "cell_type": "code",
   "execution_count": 1,
   "id": "7a66c13a",
   "metadata": {},
   "outputs": [],
   "source": [
    "import numpy as np # linear algebra\n",
    "import pandas as pd # data processing\n",
    "import matplotlib.pyplot as plt\n",
    "import seaborn as sns\n",
    "import re"
   ]
  },
  {
   "cell_type": "code",
   "execution_count": 2,
   "id": "8e47a014",
   "metadata": {
    "execution": {
     "iopub.execute_input": "2023-04-21T05:41:30.681046Z",
     "iopub.status.busy": "2023-04-21T05:41:30.680333Z",
     "iopub.status.idle": "2023-04-21T05:41:30.708157Z",
     "shell.execute_reply": "2023-04-21T05:41:30.706860Z"
    },
    "papermill": {
     "duration": 0.061171,
     "end_time": "2023-04-21T05:41:30.711283",
     "exception": false,
     "start_time": "2023-04-21T05:41:30.650112",
     "status": "completed"
    },
    "tags": []
   },
   "outputs": [],
   "source": [
    "# importing data\n",
    "data = pd.read_csv(\"F:\\ds_salaries.csv\")"
   ]
  },
  {
   "cell_type": "code",
   "execution_count": 3,
   "id": "ba9900f7",
   "metadata": {
    "execution": {
     "iopub.execute_input": "2023-04-21T05:41:30.774873Z",
     "iopub.status.busy": "2023-04-21T05:41:30.773988Z",
     "iopub.status.idle": "2023-04-21T05:41:30.807047Z",
     "shell.execute_reply": "2023-04-21T05:41:30.805746Z"
    },
    "papermill": {
     "duration": 0.068709,
     "end_time": "2023-04-21T05:41:30.809856",
     "exception": false,
     "start_time": "2023-04-21T05:41:30.741147",
     "status": "completed"
    },
    "tags": []
   },
   "outputs": [
    {
     "data": {
      "text/html": [
       "<div>\n",
       "<style scoped>\n",
       "    .dataframe tbody tr th:only-of-type {\n",
       "        vertical-align: middle;\n",
       "    }\n",
       "\n",
       "    .dataframe tbody tr th {\n",
       "        vertical-align: top;\n",
       "    }\n",
       "\n",
       "    .dataframe thead th {\n",
       "        text-align: right;\n",
       "    }\n",
       "</style>\n",
       "<table border=\"1\" class=\"dataframe\">\n",
       "  <thead>\n",
       "    <tr style=\"text-align: right;\">\n",
       "      <th></th>\n",
       "      <th>work_year</th>\n",
       "      <th>experience_level</th>\n",
       "      <th>employment_type</th>\n",
       "      <th>job_title</th>\n",
       "      <th>salary</th>\n",
       "      <th>salary_currency</th>\n",
       "      <th>salary_in_usd</th>\n",
       "      <th>employee_residence</th>\n",
       "      <th>remote_ratio</th>\n",
       "      <th>company_location</th>\n",
       "      <th>company_size</th>\n",
       "    </tr>\n",
       "  </thead>\n",
       "  <tbody>\n",
       "    <tr>\n",
       "      <th>0</th>\n",
       "      <td>2023</td>\n",
       "      <td>SE</td>\n",
       "      <td>FT</td>\n",
       "      <td>Principal Data Scientist</td>\n",
       "      <td>80000</td>\n",
       "      <td>EUR</td>\n",
       "      <td>85847</td>\n",
       "      <td>ES</td>\n",
       "      <td>100</td>\n",
       "      <td>ES</td>\n",
       "      <td>L</td>\n",
       "    </tr>\n",
       "    <tr>\n",
       "      <th>1</th>\n",
       "      <td>2023</td>\n",
       "      <td>MI</td>\n",
       "      <td>CT</td>\n",
       "      <td>ML Engineer</td>\n",
       "      <td>30000</td>\n",
       "      <td>USD</td>\n",
       "      <td>30000</td>\n",
       "      <td>US</td>\n",
       "      <td>100</td>\n",
       "      <td>US</td>\n",
       "      <td>S</td>\n",
       "    </tr>\n",
       "    <tr>\n",
       "      <th>2</th>\n",
       "      <td>2023</td>\n",
       "      <td>MI</td>\n",
       "      <td>CT</td>\n",
       "      <td>ML Engineer</td>\n",
       "      <td>25500</td>\n",
       "      <td>USD</td>\n",
       "      <td>25500</td>\n",
       "      <td>US</td>\n",
       "      <td>100</td>\n",
       "      <td>US</td>\n",
       "      <td>S</td>\n",
       "    </tr>\n",
       "    <tr>\n",
       "      <th>3</th>\n",
       "      <td>2023</td>\n",
       "      <td>SE</td>\n",
       "      <td>FT</td>\n",
       "      <td>Data Scientist</td>\n",
       "      <td>175000</td>\n",
       "      <td>USD</td>\n",
       "      <td>175000</td>\n",
       "      <td>CA</td>\n",
       "      <td>100</td>\n",
       "      <td>CA</td>\n",
       "      <td>M</td>\n",
       "    </tr>\n",
       "    <tr>\n",
       "      <th>4</th>\n",
       "      <td>2023</td>\n",
       "      <td>SE</td>\n",
       "      <td>FT</td>\n",
       "      <td>Data Scientist</td>\n",
       "      <td>120000</td>\n",
       "      <td>USD</td>\n",
       "      <td>120000</td>\n",
       "      <td>CA</td>\n",
       "      <td>100</td>\n",
       "      <td>CA</td>\n",
       "      <td>M</td>\n",
       "    </tr>\n",
       "  </tbody>\n",
       "</table>\n",
       "</div>"
      ],
      "text/plain": [
       "   work_year experience_level employment_type                 job_title  \\\n",
       "0       2023               SE              FT  Principal Data Scientist   \n",
       "1       2023               MI              CT               ML Engineer   \n",
       "2       2023               MI              CT               ML Engineer   \n",
       "3       2023               SE              FT            Data Scientist   \n",
       "4       2023               SE              FT            Data Scientist   \n",
       "\n",
       "   salary salary_currency  salary_in_usd employee_residence  remote_ratio  \\\n",
       "0   80000             EUR          85847                 ES           100   \n",
       "1   30000             USD          30000                 US           100   \n",
       "2   25500             USD          25500                 US           100   \n",
       "3  175000             USD         175000                 CA           100   \n",
       "4  120000             USD         120000                 CA           100   \n",
       "\n",
       "  company_location company_size  \n",
       "0               ES            L  \n",
       "1               US            S  \n",
       "2               US            S  \n",
       "3               CA            M  \n",
       "4               CA            M  "
      ]
     },
     "execution_count": 3,
     "metadata": {},
     "output_type": "execute_result"
    }
   ],
   "source": [
    "# Having a glance at the dataset\n",
    "data.head()"
   ]
  },
  {
   "cell_type": "code",
   "execution_count": 4,
   "id": "c308f1d1",
   "metadata": {
    "execution": {
     "iopub.execute_input": "2023-04-21T05:41:30.871702Z",
     "iopub.status.busy": "2023-04-21T05:41:30.870385Z",
     "iopub.status.idle": "2023-04-21T05:41:30.877097Z",
     "shell.execute_reply": "2023-04-21T05:41:30.876250Z"
    },
    "papermill": {
     "duration": 0.040422,
     "end_time": "2023-04-21T05:41:30.879319",
     "exception": false,
     "start_time": "2023-04-21T05:41:30.838897",
     "status": "completed"
    },
    "tags": []
   },
   "outputs": [
    {
     "data": {
      "text/plain": [
       "(3755, 11)"
      ]
     },
     "execution_count": 4,
     "metadata": {},
     "output_type": "execute_result"
    }
   ],
   "source": [
    "# Checking the rows and columns in dataset\n",
    "data.shape"
   ]
  },
  {
   "cell_type": "code",
   "execution_count": 5,
   "id": "28960d26",
   "metadata": {
    "execution": {
     "iopub.execute_input": "2023-04-21T05:41:30.940721Z",
     "iopub.status.busy": "2023-04-21T05:41:30.939922Z",
     "iopub.status.idle": "2023-04-21T05:41:30.944510Z",
     "shell.execute_reply": "2023-04-21T05:41:30.943553Z"
    },
    "papermill": {
     "duration": 0.03778,
     "end_time": "2023-04-21T05:41:30.946967",
     "exception": false,
     "start_time": "2023-04-21T05:41:30.909187",
     "status": "completed"
    },
    "tags": []
   },
   "outputs": [],
   "source": [
    "#The dataset contians 11 columns and 3755 rows"
   ]
  },
  {
   "cell_type": "code",
   "execution_count": 6,
   "id": "c446526d",
   "metadata": {
    "execution": {
     "iopub.execute_input": "2023-04-21T05:41:31.008774Z",
     "iopub.status.busy": "2023-04-21T05:41:31.008314Z",
     "iopub.status.idle": "2023-04-21T05:41:31.039903Z",
     "shell.execute_reply": "2023-04-21T05:41:31.037890Z"
    },
    "papermill": {
     "duration": 0.065861,
     "end_time": "2023-04-21T05:41:31.042505",
     "exception": false,
     "start_time": "2023-04-21T05:41:30.976644",
     "status": "completed"
    },
    "tags": []
   },
   "outputs": [
    {
     "name": "stdout",
     "output_type": "stream",
     "text": [
      "<class 'pandas.core.frame.DataFrame'>\n",
      "RangeIndex: 3755 entries, 0 to 3754\n",
      "Data columns (total 11 columns):\n",
      " #   Column              Non-Null Count  Dtype \n",
      "---  ------              --------------  ----- \n",
      " 0   work_year           3755 non-null   int64 \n",
      " 1   experience_level    3755 non-null   object\n",
      " 2   employment_type     3755 non-null   object\n",
      " 3   job_title           3755 non-null   object\n",
      " 4   salary              3755 non-null   int64 \n",
      " 5   salary_currency     3755 non-null   object\n",
      " 6   salary_in_usd       3755 non-null   int64 \n",
      " 7   employee_residence  3755 non-null   object\n",
      " 8   remote_ratio        3755 non-null   int64 \n",
      " 9   company_location    3755 non-null   object\n",
      " 10  company_size        3755 non-null   object\n",
      "dtypes: int64(4), object(7)\n",
      "memory usage: 322.8+ KB\n"
     ]
    }
   ],
   "source": [
    "# Looking at datatype, non-vnull value, \n",
    "## Meta data on columns\n",
    "data.info()"
   ]
  },
  {
   "cell_type": "markdown",
   "id": "2327d10e",
   "metadata": {
    "papermill": {
     "duration": 0.030122,
     "end_time": "2023-04-21T05:41:31.103418",
     "exception": false,
     "start_time": "2023-04-21T05:41:31.073296",
     "status": "completed"
    },
    "tags": []
   },
   "source": [
    "Data Science Job Salaries Dataset contains 11 columns, each are:\n",
    "\n",
    "1. **work_year**: The year the salary was paid.\n",
    "2. **experience_level**: The experience level in the job during the year\n",
    "3. **employment_type**: The type of employment for the role\n",
    "4. **job_title**: The role worked in during the year.\n",
    "5. **salary**: The total gross salary amount paid.\n",
    "6. **salary_currency**: The currency of the salary paid as an ISO 4217 currency code.\n",
    "7. **salaryinusd** : The salary in USD\n",
    "8. **employee_residence**: Employee's primary country of residence in during the work year as an ISO 3166 country code.\n",
    "9. **remote_ratio**: The overall amount of work done remotely\n",
    "10. **company_location** : The country of the employer's main office or contracting branch\n",
    "11. **company_size** : The median number of people that worked for the company during the year"
   ]
  },
  {
   "cell_type": "code",
   "execution_count": 7,
   "id": "78183a0c",
   "metadata": {
    "execution": {
     "iopub.execute_input": "2023-04-21T05:41:31.164968Z",
     "iopub.status.busy": "2023-04-21T05:41:31.163805Z",
     "iopub.status.idle": "2023-04-21T05:41:31.197098Z",
     "shell.execute_reply": "2023-04-21T05:41:31.195779Z"
    },
    "papermill": {
     "duration": 0.066775,
     "end_time": "2023-04-21T05:41:31.199712",
     "exception": false,
     "start_time": "2023-04-21T05:41:31.132937",
     "status": "completed"
    },
    "tags": []
   },
   "outputs": [
    {
     "data": {
      "text/html": [
       "<div>\n",
       "<style scoped>\n",
       "    .dataframe tbody tr th:only-of-type {\n",
       "        vertical-align: middle;\n",
       "    }\n",
       "\n",
       "    .dataframe tbody tr th {\n",
       "        vertical-align: top;\n",
       "    }\n",
       "\n",
       "    .dataframe thead th {\n",
       "        text-align: right;\n",
       "    }\n",
       "</style>\n",
       "<table border=\"1\" class=\"dataframe\">\n",
       "  <thead>\n",
       "    <tr style=\"text-align: right;\">\n",
       "      <th></th>\n",
       "      <th>count</th>\n",
       "      <th>mean</th>\n",
       "      <th>std</th>\n",
       "      <th>min</th>\n",
       "      <th>25%</th>\n",
       "      <th>50%</th>\n",
       "      <th>75%</th>\n",
       "      <th>max</th>\n",
       "    </tr>\n",
       "  </thead>\n",
       "  <tbody>\n",
       "    <tr>\n",
       "      <th>work_year</th>\n",
       "      <td>3755.0</td>\n",
       "      <td>2022.373635</td>\n",
       "      <td>0.691448</td>\n",
       "      <td>2020.0</td>\n",
       "      <td>2022.0</td>\n",
       "      <td>2022.0</td>\n",
       "      <td>2023.0</td>\n",
       "      <td>2023.0</td>\n",
       "    </tr>\n",
       "    <tr>\n",
       "      <th>salary</th>\n",
       "      <td>3755.0</td>\n",
       "      <td>190695.571771</td>\n",
       "      <td>671676.500508</td>\n",
       "      <td>6000.0</td>\n",
       "      <td>100000.0</td>\n",
       "      <td>138000.0</td>\n",
       "      <td>180000.0</td>\n",
       "      <td>30400000.0</td>\n",
       "    </tr>\n",
       "    <tr>\n",
       "      <th>salary_in_usd</th>\n",
       "      <td>3755.0</td>\n",
       "      <td>137570.389880</td>\n",
       "      <td>63055.625278</td>\n",
       "      <td>5132.0</td>\n",
       "      <td>95000.0</td>\n",
       "      <td>135000.0</td>\n",
       "      <td>175000.0</td>\n",
       "      <td>450000.0</td>\n",
       "    </tr>\n",
       "    <tr>\n",
       "      <th>remote_ratio</th>\n",
       "      <td>3755.0</td>\n",
       "      <td>46.271638</td>\n",
       "      <td>48.589050</td>\n",
       "      <td>0.0</td>\n",
       "      <td>0.0</td>\n",
       "      <td>0.0</td>\n",
       "      <td>100.0</td>\n",
       "      <td>100.0</td>\n",
       "    </tr>\n",
       "  </tbody>\n",
       "</table>\n",
       "</div>"
      ],
      "text/plain": [
       "                count           mean            std     min       25%  \\\n",
       "work_year      3755.0    2022.373635       0.691448  2020.0    2022.0   \n",
       "salary         3755.0  190695.571771  671676.500508  6000.0  100000.0   \n",
       "salary_in_usd  3755.0  137570.389880   63055.625278  5132.0   95000.0   \n",
       "remote_ratio   3755.0      46.271638      48.589050     0.0       0.0   \n",
       "\n",
       "                    50%       75%         max  \n",
       "work_year        2022.0    2023.0      2023.0  \n",
       "salary         138000.0  180000.0  30400000.0  \n",
       "salary_in_usd  135000.0  175000.0    450000.0  \n",
       "remote_ratio        0.0     100.0       100.0  "
      ]
     },
     "execution_count": 7,
     "metadata": {},
     "output_type": "execute_result"
    }
   ],
   "source": [
    "# Looking at the 5 point summary of Numeric dataset\n",
    "data.describe().transpose()"
   ]
  },
  {
   "cell_type": "markdown",
   "id": "17ce7d29",
   "metadata": {
    "execution": {
     "iopub.execute_input": "2023-04-21T03:01:52.070892Z",
     "iopub.status.busy": "2023-04-21T03:01:52.070434Z",
     "iopub.status.idle": "2023-04-21T03:01:52.076044Z",
     "shell.execute_reply": "2023-04-21T03:01:52.074729Z",
     "shell.execute_reply.started": "2023-04-21T03:01:52.070851Z"
    },
    "papermill": {
     "duration": 0.029808,
     "end_time": "2023-04-21T05:41:31.258951",
     "exception": false,
     "start_time": "2023-04-21T05:41:31.229143",
     "status": "completed"
    },
    "tags": []
   },
   "source": [
    "# 2. Data Preprocessing and EDA"
   ]
  },
  {
   "cell_type": "markdown",
   "id": "16205b76",
   "metadata": {
    "papermill": {
     "duration": 0.029393,
     "end_time": "2023-04-21T05:41:31.318742",
     "exception": false,
     "start_time": "2023-04-21T05:41:31.289349",
     "status": "completed"
    },
    "tags": []
   },
   "source": [
    "## Checking Null Values"
   ]
  },
  {
   "cell_type": "code",
   "execution_count": 8,
   "id": "84587090",
   "metadata": {
    "execution": {
     "iopub.execute_input": "2023-04-21T05:41:31.382265Z",
     "iopub.status.busy": "2023-04-21T05:41:31.381141Z",
     "iopub.status.idle": "2023-04-21T05:41:31.392530Z",
     "shell.execute_reply": "2023-04-21T05:41:31.391202Z"
    },
    "papermill": {
     "duration": 0.045672,
     "end_time": "2023-04-21T05:41:31.395321",
     "exception": false,
     "start_time": "2023-04-21T05:41:31.349649",
     "status": "completed"
    },
    "tags": []
   },
   "outputs": [
    {
     "data": {
      "text/plain": [
       "work_year             0\n",
       "experience_level      0\n",
       "employment_type       0\n",
       "job_title             0\n",
       "salary                0\n",
       "salary_currency       0\n",
       "salary_in_usd         0\n",
       "employee_residence    0\n",
       "remote_ratio          0\n",
       "company_location      0\n",
       "company_size          0\n",
       "dtype: int64"
      ]
     },
     "execution_count": 8,
     "metadata": {},
     "output_type": "execute_result"
    }
   ],
   "source": [
    "data.isnull().sum()"
   ]
  },
  {
   "cell_type": "code",
   "execution_count": 9,
   "id": "16628258",
   "metadata": {
    "execution": {
     "iopub.execute_input": "2023-04-21T05:41:31.457412Z",
     "iopub.status.busy": "2023-04-21T05:41:31.456199Z",
     "iopub.status.idle": "2023-04-21T05:41:31.461608Z",
     "shell.execute_reply": "2023-04-21T05:41:31.460645Z"
    },
    "papermill": {
     "duration": 0.038596,
     "end_time": "2023-04-21T05:41:31.463879",
     "exception": false,
     "start_time": "2023-04-21T05:41:31.425283",
     "status": "completed"
    },
    "tags": []
   },
   "outputs": [],
   "source": [
    "# Dataset has no null values"
   ]
  },
  {
   "cell_type": "markdown",
   "id": "88780633",
   "metadata": {
    "papermill": {
     "duration": 0.030019,
     "end_time": "2023-04-21T05:41:31.523843",
     "exception": false,
     "start_time": "2023-04-21T05:41:31.493824",
     "status": "completed"
    },
    "tags": []
   },
   "source": [
    "## Checking Duplicate Values"
   ]
  },
  {
   "cell_type": "code",
   "execution_count": 10,
   "id": "450c9321",
   "metadata": {
    "execution": {
     "iopub.execute_input": "2023-04-21T05:41:31.586816Z",
     "iopub.status.busy": "2023-04-21T05:41:31.586001Z",
     "iopub.status.idle": "2023-04-21T05:41:31.599968Z",
     "shell.execute_reply": "2023-04-21T05:41:31.598606Z"
    },
    "papermill": {
     "duration": 0.048278,
     "end_time": "2023-04-21T05:41:31.602921",
     "exception": false,
     "start_time": "2023-04-21T05:41:31.554643",
     "status": "completed"
    },
    "tags": []
   },
   "outputs": [
    {
     "data": {
      "text/plain": [
       "1171"
      ]
     },
     "execution_count": 10,
     "metadata": {},
     "output_type": "execute_result"
    }
   ],
   "source": [
    "data.duplicated().sum()"
   ]
  },
  {
   "cell_type": "code",
   "execution_count": 11,
   "id": "2ee0e908",
   "metadata": {
    "execution": {
     "iopub.execute_input": "2023-04-21T05:41:31.665971Z",
     "iopub.status.busy": "2023-04-21T05:41:31.664676Z",
     "iopub.status.idle": "2023-04-21T05:41:31.669806Z",
     "shell.execute_reply": "2023-04-21T05:41:31.668882Z"
    },
    "papermill": {
     "duration": 0.038928,
     "end_time": "2023-04-21T05:41:31.672149",
     "exception": false,
     "start_time": "2023-04-21T05:41:31.633221",
     "status": "completed"
    },
    "tags": []
   },
   "outputs": [],
   "source": [
    "# Out of the Total Observation (3755) , 1171 values are duplicated. Duplicate values generally create bias performance in train_test_spilt and modelling, so we should ideally drop this duplicates"
   ]
  },
  {
   "cell_type": "code",
   "execution_count": 12,
   "id": "94101ebc",
   "metadata": {
    "execution": {
     "iopub.execute_input": "2023-04-21T05:41:31.734576Z",
     "iopub.status.busy": "2023-04-21T05:41:31.734102Z",
     "iopub.status.idle": "2023-04-21T05:41:31.744160Z",
     "shell.execute_reply": "2023-04-21T05:41:31.743130Z"
    },
    "papermill": {
     "duration": 0.044398,
     "end_time": "2023-04-21T05:41:31.746727",
     "exception": false,
     "start_time": "2023-04-21T05:41:31.702329",
     "status": "completed"
    },
    "tags": []
   },
   "outputs": [],
   "source": [
    "data =data.drop_duplicates(keep=\"first\")"
   ]
  },
  {
   "cell_type": "markdown",
   "id": "2f7ad7e0",
   "metadata": {
    "papermill": {
     "duration": 0.030074,
     "end_time": "2023-04-21T05:41:31.807253",
     "exception": false,
     "start_time": "2023-04-21T05:41:31.777179",
     "status": "completed"
    },
    "tags": []
   },
   "source": [
    "##  Glancing Quanitles Distribution of Numerical Variables"
   ]
  },
  {
   "cell_type": "code",
   "execution_count": 13,
   "id": "954b7d2b",
   "metadata": {
    "execution": {
     "iopub.execute_input": "2023-04-21T05:41:31.870628Z",
     "iopub.status.busy": "2023-04-21T05:41:31.869415Z",
     "iopub.status.idle": "2023-04-21T05:41:31.894117Z",
     "shell.execute_reply": "2023-04-21T05:41:31.892526Z"
    },
    "papermill": {
     "duration": 0.060069,
     "end_time": "2023-04-21T05:41:31.897101",
     "exception": false,
     "start_time": "2023-04-21T05:41:31.837032",
     "status": "completed"
    },
    "tags": []
   },
   "outputs": [
    {
     "data": {
      "text/html": [
       "<div>\n",
       "<style scoped>\n",
       "    .dataframe tbody tr th:only-of-type {\n",
       "        vertical-align: middle;\n",
       "    }\n",
       "\n",
       "    .dataframe tbody tr th {\n",
       "        vertical-align: top;\n",
       "    }\n",
       "\n",
       "    .dataframe thead th {\n",
       "        text-align: right;\n",
       "    }\n",
       "</style>\n",
       "<table border=\"1\" class=\"dataframe\">\n",
       "  <thead>\n",
       "    <tr style=\"text-align: right;\">\n",
       "      <th></th>\n",
       "      <th>0.1</th>\n",
       "      <th>0.2</th>\n",
       "      <th>0.3</th>\n",
       "      <th>0.4</th>\n",
       "      <th>0.5</th>\n",
       "      <th>0.6</th>\n",
       "      <th>0.7</th>\n",
       "      <th>0.8</th>\n",
       "      <th>0.9</th>\n",
       "    </tr>\n",
       "  </thead>\n",
       "  <tbody>\n",
       "    <tr>\n",
       "      <th>work_year</th>\n",
       "      <td>2021.0</td>\n",
       "      <td>2022.0</td>\n",
       "      <td>2022.0</td>\n",
       "      <td>2022.0</td>\n",
       "      <td>2022.0</td>\n",
       "      <td>2023.0</td>\n",
       "      <td>2023.0</td>\n",
       "      <td>2023.0</td>\n",
       "      <td>2023.0</td>\n",
       "    </tr>\n",
       "    <tr>\n",
       "      <th>salary</th>\n",
       "      <td>55000.0</td>\n",
       "      <td>80000.0</td>\n",
       "      <td>100000.0</td>\n",
       "      <td>117020.0</td>\n",
       "      <td>134630.0</td>\n",
       "      <td>150000.0</td>\n",
       "      <td>170000.0</td>\n",
       "      <td>197000.0</td>\n",
       "      <td>235000.0</td>\n",
       "    </tr>\n",
       "    <tr>\n",
       "      <th>salary_in_usd</th>\n",
       "      <td>50602.4</td>\n",
       "      <td>74078.0</td>\n",
       "      <td>95000.0</td>\n",
       "      <td>111820.0</td>\n",
       "      <td>130000.0</td>\n",
       "      <td>145000.0</td>\n",
       "      <td>164099.6</td>\n",
       "      <td>187000.0</td>\n",
       "      <td>220000.0</td>\n",
       "    </tr>\n",
       "    <tr>\n",
       "      <th>remote_ratio</th>\n",
       "      <td>0.0</td>\n",
       "      <td>0.0</td>\n",
       "      <td>0.0</td>\n",
       "      <td>0.0</td>\n",
       "      <td>50.0</td>\n",
       "      <td>100.0</td>\n",
       "      <td>100.0</td>\n",
       "      <td>100.0</td>\n",
       "      <td>100.0</td>\n",
       "    </tr>\n",
       "  </tbody>\n",
       "</table>\n",
       "</div>"
      ],
      "text/plain": [
       "                   0.1      0.2       0.3       0.4       0.5       0.6  \\\n",
       "work_year       2021.0   2022.0    2022.0    2022.0    2022.0    2023.0   \n",
       "salary         55000.0  80000.0  100000.0  117020.0  134630.0  150000.0   \n",
       "salary_in_usd  50602.4  74078.0   95000.0  111820.0  130000.0  145000.0   \n",
       "remote_ratio       0.0      0.0       0.0       0.0      50.0     100.0   \n",
       "\n",
       "                    0.7       0.8       0.9  \n",
       "work_year        2023.0    2023.0    2023.0  \n",
       "salary         170000.0  197000.0  235000.0  \n",
       "salary_in_usd  164099.6  187000.0  220000.0  \n",
       "remote_ratio      100.0     100.0     100.0  "
      ]
     },
     "execution_count": 13,
     "metadata": {},
     "output_type": "execute_result"
    }
   ],
   "source": [
    "quantiles=data.quantile(np.arange(0.1, 1, 0.1)).transpose()\n",
    "quantiles"
   ]
  },
  {
   "cell_type": "code",
   "execution_count": 14,
   "id": "2965c2f1",
   "metadata": {
    "execution": {
     "iopub.execute_input": "2023-04-21T05:41:31.960131Z",
     "iopub.status.busy": "2023-04-21T05:41:31.959715Z",
     "iopub.status.idle": "2023-04-21T05:41:31.969281Z",
     "shell.execute_reply": "2023-04-21T05:41:31.968088Z"
    },
    "papermill": {
     "duration": 0.043814,
     "end_time": "2023-04-21T05:41:31.971645",
     "exception": false,
     "start_time": "2023-04-21T05:41:31.927831",
     "status": "completed"
    },
    "tags": []
   },
   "outputs": [
    {
     "data": {
      "text/plain": [
       "100    1211\n",
       "0      1186\n",
       "50      187\n",
       "Name: remote_ratio, dtype: int64"
      ]
     },
     "execution_count": 14,
     "metadata": {},
     "output_type": "execute_result"
    }
   ],
   "source": [
    "data.remote_ratio.value_counts()"
   ]
  },
  {
   "cell_type": "code",
   "execution_count": 15,
   "id": "979a537f",
   "metadata": {
    "execution": {
     "iopub.execute_input": "2023-04-21T05:41:32.035876Z",
     "iopub.status.busy": "2023-04-21T05:41:32.035427Z",
     "iopub.status.idle": "2023-04-21T05:41:32.043276Z",
     "shell.execute_reply": "2023-04-21T05:41:32.042290Z"
    },
    "papermill": {
     "duration": 0.042612,
     "end_time": "2023-04-21T05:41:32.045788",
     "exception": false,
     "start_time": "2023-04-21T05:41:32.003176",
     "status": "completed"
    },
    "tags": []
   },
   "outputs": [
    {
     "data": {
      "text/plain": [
       "2023    1156\n",
       "2022    1125\n",
       "2021     228\n",
       "2020      75\n",
       "Name: work_year, dtype: int64"
      ]
     },
     "execution_count": 15,
     "metadata": {},
     "output_type": "execute_result"
    }
   ],
   "source": [
    "data.work_year.value_counts()"
   ]
  },
  {
   "cell_type": "code",
   "execution_count": 16,
   "id": "79190d6c",
   "metadata": {
    "execution": {
     "iopub.execute_input": "2023-04-21T05:41:32.110909Z",
     "iopub.status.busy": "2023-04-21T05:41:32.110411Z",
     "iopub.status.idle": "2023-04-21T05:41:32.115594Z",
     "shell.execute_reply": "2023-04-21T05:41:32.114162Z"
    },
    "papermill": {
     "duration": 0.040423,
     "end_time": "2023-04-21T05:41:32.118347",
     "exception": false,
     "start_time": "2023-04-21T05:41:32.077924",
     "status": "completed"
    },
    "tags": []
   },
   "outputs": [],
   "source": [
    "# work_year and remote_ratio are not numeric variables\n",
    "# There are only two numeric variables in data\n",
    "# 1. salary\n",
    "# 2. salary_in_usd"
   ]
  },
  {
   "cell_type": "code",
   "execution_count": 17,
   "id": "8d9185bc",
   "metadata": {
    "execution": {
     "iopub.execute_input": "2023-04-21T05:41:32.182041Z",
     "iopub.status.busy": "2023-04-21T05:41:32.181607Z",
     "iopub.status.idle": "2023-04-21T05:41:32.202497Z",
     "shell.execute_reply": "2023-04-21T05:41:32.201230Z"
    },
    "papermill": {
     "duration": 0.056576,
     "end_time": "2023-04-21T05:41:32.205425",
     "exception": false,
     "start_time": "2023-04-21T05:41:32.148849",
     "status": "completed"
    },
    "tags": []
   },
   "outputs": [
    {
     "data": {
      "text/html": [
       "<div>\n",
       "<style scoped>\n",
       "    .dataframe tbody tr th:only-of-type {\n",
       "        vertical-align: middle;\n",
       "    }\n",
       "\n",
       "    .dataframe tbody tr th {\n",
       "        vertical-align: top;\n",
       "    }\n",
       "\n",
       "    .dataframe thead th {\n",
       "        text-align: right;\n",
       "    }\n",
       "</style>\n",
       "<table border=\"1\" class=\"dataframe\">\n",
       "  <thead>\n",
       "    <tr style=\"text-align: right;\">\n",
       "      <th></th>\n",
       "      <th>0.1</th>\n",
       "      <th>0.2</th>\n",
       "      <th>0.3</th>\n",
       "      <th>0.4</th>\n",
       "      <th>0.5</th>\n",
       "      <th>0.6</th>\n",
       "      <th>0.7</th>\n",
       "      <th>0.8</th>\n",
       "      <th>0.9</th>\n",
       "    </tr>\n",
       "  </thead>\n",
       "  <tbody>\n",
       "    <tr>\n",
       "      <th>salary</th>\n",
       "      <td>55000.0</td>\n",
       "      <td>80000.0</td>\n",
       "      <td>100000.0</td>\n",
       "      <td>117020.0</td>\n",
       "      <td>134630.0</td>\n",
       "      <td>150000.0</td>\n",
       "      <td>170000.0</td>\n",
       "      <td>197000.0</td>\n",
       "      <td>235000.0</td>\n",
       "    </tr>\n",
       "    <tr>\n",
       "      <th>salary_in_usd</th>\n",
       "      <td>50602.4</td>\n",
       "      <td>74078.0</td>\n",
       "      <td>95000.0</td>\n",
       "      <td>111820.0</td>\n",
       "      <td>130000.0</td>\n",
       "      <td>145000.0</td>\n",
       "      <td>164099.6</td>\n",
       "      <td>187000.0</td>\n",
       "      <td>220000.0</td>\n",
       "    </tr>\n",
       "  </tbody>\n",
       "</table>\n",
       "</div>"
      ],
      "text/plain": [
       "                   0.1      0.2       0.3       0.4       0.5       0.6  \\\n",
       "salary         55000.0  80000.0  100000.0  117020.0  134630.0  150000.0   \n",
       "salary_in_usd  50602.4  74078.0   95000.0  111820.0  130000.0  145000.0   \n",
       "\n",
       "                    0.7       0.8       0.9  \n",
       "salary         170000.0  197000.0  235000.0  \n",
       "salary_in_usd  164099.6  187000.0  220000.0  "
      ]
     },
     "execution_count": 17,
     "metadata": {},
     "output_type": "execute_result"
    }
   ],
   "source": [
    "quantiles=data[['salary','salary_in_usd']].quantile(np.arange(0.1, 1, 0.1)).transpose()\n",
    "quantiles"
   ]
  },
  {
   "cell_type": "markdown",
   "id": "519eb3a9",
   "metadata": {
    "execution": {
     "iopub.execute_input": "2023-04-14T07:16:28.269997Z",
     "iopub.status.busy": "2023-04-14T07:16:28.269525Z",
     "iopub.status.idle": "2023-04-14T07:16:28.275563Z",
     "shell.execute_reply": "2023-04-14T07:16:28.274287Z",
     "shell.execute_reply.started": "2023-04-14T07:16:28.269934Z"
    },
    "papermill": {
     "duration": 0.030661,
     "end_time": "2023-04-21T05:41:32.266585",
     "exception": false,
     "start_time": "2023-04-21T05:41:32.235924",
     "status": "completed"
    },
    "tags": []
   },
   "source": [
    "### Looking at Box plot and Histogram for each of the two varaibles"
   ]
  },
  {
   "cell_type": "markdown",
   "id": "3c878c70",
   "metadata": {
    "execution": {
     "iopub.execute_input": "2023-04-14T07:20:32.803399Z",
     "iopub.status.busy": "2023-04-14T07:20:32.802927Z",
     "iopub.status.idle": "2023-04-14T07:20:32.809471Z",
     "shell.execute_reply": "2023-04-14T07:20:32.808157Z",
     "shell.execute_reply.started": "2023-04-14T07:20:32.803358Z"
    },
    "papermill": {
     "duration": 0.030882,
     "end_time": "2023-04-21T05:41:32.328064",
     "exception": false,
     "start_time": "2023-04-21T05:41:32.297182",
     "status": "completed"
    },
    "tags": []
   },
   "source": [
    "## Salary "
   ]
  },
  {
   "cell_type": "code",
   "execution_count": 18,
   "id": "f7a2db03",
   "metadata": {
    "execution": {
     "iopub.execute_input": "2023-04-21T05:41:32.392275Z",
     "iopub.status.busy": "2023-04-21T05:41:32.391031Z",
     "iopub.status.idle": "2023-04-21T05:41:32.650813Z",
     "shell.execute_reply": "2023-04-21T05:41:32.649322Z"
    },
    "papermill": {
     "duration": 0.294527,
     "end_time": "2023-04-21T05:41:32.653513",
     "exception": false,
     "start_time": "2023-04-21T05:41:32.358986",
     "status": "completed"
    },
    "scrolled": true,
    "tags": []
   },
   "outputs": [
    {
     "data": {
      "image/png": "[encoded data removed]",
      "text/plain": [
       "<Figure size 1584x288 with 1 Axes>"
      ]
     },
     "metadata": {
      "needs_background": "light"
     },
     "output_type": "display_data"
    }
   ],
   "source": [
    "plt.figure(figsize=[22,4])\n",
    "sns.boxplot(x = 'salary', data = data,color='green')\n",
    "plt.title('Boxplot for salary Variable')\n",
    "plt.show()"
   ]
  },
  {
   "cell_type": "markdown",
   "id": "ff129726",
   "metadata": {
    "papermill": {
     "duration": 0.032139,
     "end_time": "2023-04-21T05:41:32.717486",
     "exception": false,
     "start_time": "2023-04-21T05:41:32.685347",
     "status": "completed"
    },
    "tags": []
   },
   "source": [
    "We see that the salary variable consist of many outliers , but this outliers are not actual outliers becuase the salary varibale is salaries in differnt currencies which is standardized in our next variables 'salary_in_usd'. So we need not treat any outlier. And keeping this variables as it is and not useful for modelling becuase it wont be able to explain much in salary variation. Instead we will be using the currency in which salary is given."
   ]
  },
  {
   "cell_type": "code",
   "execution_count": 19,
   "id": "f5745f1e",
   "metadata": {
    "execution": {
     "iopub.execute_input": "2023-04-21T05:41:32.784797Z",
     "iopub.status.busy": "2023-04-21T05:41:32.783369Z",
     "iopub.status.idle": "2023-04-21T05:41:37.015687Z",
     "shell.execute_reply": "2023-04-21T05:41:37.013513Z"
    },
    "papermill": {
     "duration": 4.269599,
     "end_time": "2023-04-21T05:41:37.019657",
     "exception": false,
     "start_time": "2023-04-21T05:41:32.750058",
     "status": "completed"
    },
    "tags": []
   },
   "outputs": [
    {
     "data": {
      "image/png": "[encoded data removed]",
      "text/plain": [
       "<Figure size 864x288 with 1 Axes>"
      ]
     },
     "metadata": {
      "needs_background": "light"
     },
     "output_type": "display_data"
    }
   ],
   "source": [
    "plt.figure(figsize=[12,4])\n",
    "sns.histplot(data = data['salary'], kde = True,color='green')\n",
    "plt.title('Histogram for Age Variable')\n",
    "plt.show()"
   ]
  },
  {
   "cell_type": "markdown",
   "id": "9cca9989",
   "metadata": {
    "papermill": {
     "duration": 0.035417,
     "end_time": "2023-04-21T05:41:37.088198",
     "exception": false,
     "start_time": "2023-04-21T05:41:37.052781",
     "status": "completed"
    },
    "tags": []
   },
   "source": [
    "## salary_in_usd\n",
    "### This is our Target Variable:"
   ]
  },
  {
   "cell_type": "code",
   "execution_count": 20,
   "id": "211c0fe6",
   "metadata": {
    "execution": {
     "iopub.execute_input": "2023-04-21T05:41:37.153710Z",
     "iopub.status.busy": "2023-04-21T05:41:37.153203Z",
     "iopub.status.idle": "2023-04-21T05:41:37.374158Z",
     "shell.execute_reply": "2023-04-21T05:41:37.372737Z"
    },
    "papermill": {
     "duration": 0.256892,
     "end_time": "2023-04-21T05:41:37.376724",
     "exception": false,
     "start_time": "2023-04-21T05:41:37.119832",
     "status": "completed"
    },
    "tags": []
   },
   "outputs": [
    {
     "data": {
      "image/png": "[encoded data removed]",
      "text/plain": [
       "<Figure size 1584x288 with 1 Axes>"
      ]
     },
     "metadata": {
      "needs_background": "light"
     },
     "output_type": "display_data"
    }
   ],
   "source": [
    "plt.figure(figsize=[22,4])\n",
    "sns.boxplot(x = 'salary_in_usd', data = data,color='green')\n",
    "plt.title('Boxplot for salary Variable')\n",
    "plt.show()"
   ]
  },
  {
   "cell_type": "code",
   "execution_count": 21,
   "id": "96156fb4",
   "metadata": {
    "execution": {
     "iopub.execute_input": "2023-04-21T05:41:37.442777Z",
     "iopub.status.busy": "2023-04-21T05:41:37.442332Z",
     "iopub.status.idle": "2023-04-21T05:41:37.447331Z",
     "shell.execute_reply": "2023-04-21T05:41:37.446035Z"
    },
    "papermill": {
     "duration": 0.040544,
     "end_time": "2023-04-21T05:41:37.449797",
     "exception": false,
     "start_time": "2023-04-21T05:41:37.409253",
     "status": "completed"
    },
    "tags": []
   },
   "outputs": [],
   "source": [
    "# We observe that there are some outliers in our 'salary_in_usd' variable. But these are actual variantion in the salary. There might be people with such salary. Hence we wont treat our outliers "
   ]
  },
  {
   "cell_type": "code",
   "execution_count": 22,
   "id": "cdded5bb",
   "metadata": {
    "execution": {
     "iopub.execute_input": "2023-04-21T05:41:37.514973Z",
     "iopub.status.busy": "2023-04-21T05:41:37.514537Z",
     "iopub.status.idle": "2023-04-21T05:41:37.845617Z",
     "shell.execute_reply": "2023-04-21T05:41:37.844334Z"
    },
    "papermill": {
     "duration": 0.367216,
     "end_time": "2023-04-21T05:41:37.848368",
     "exception": false,
     "start_time": "2023-04-21T05:41:37.481152",
     "status": "completed"
    },
    "tags": []
   },
   "outputs": [
    {
     "data": {
      "image/png": "[encoded data removed]",
      "text/plain": [
       "<Figure size 864x288 with 1 Axes>"
      ]
     },
     "metadata": {
      "needs_background": "light"
     },
     "output_type": "display_data"
    }
   ],
   "source": [
    "plt.figure(figsize=[12,4])\n",
    "sns.histplot(data = data['salary_in_usd'], kde = True,color='green')\n",
    "plt.title('Histogram for Age Variable')\n",
    "plt.show()"
   ]
  },
  {
   "cell_type": "markdown",
   "id": "040c805c",
   "metadata": {
    "execution": {
     "iopub.execute_input": "2023-04-14T07:27:13.021555Z",
     "iopub.status.busy": "2023-04-14T07:27:13.020453Z",
     "iopub.status.idle": "2023-04-14T07:27:13.026632Z",
     "shell.execute_reply": "2023-04-14T07:27:13.025650Z",
     "shell.execute_reply.started": "2023-04-14T07:27:13.021500Z"
    },
    "papermill": {
     "duration": 0.032244,
     "end_time": "2023-04-21T05:41:37.913460",
     "exception": false,
     "start_time": "2023-04-21T05:41:37.881216",
     "status": "completed"
    },
    "tags": []
   },
   "source": [
    "### We see that salary_in_usd  is right skewed\n",
    "### Mean > Median> Mode\n",
    "### 75 percentile of data scientist recieve salary lesser than 175000 USD and 25 percentile recieve greater than 175000 USD"
   ]
  },
  {
   "cell_type": "code",
   "execution_count": 23,
   "id": "04a4e2e2",
   "metadata": {
    "execution": {
     "iopub.execute_input": "2023-04-21T05:41:37.981540Z",
     "iopub.status.busy": "2023-04-21T05:41:37.980282Z",
     "iopub.status.idle": "2023-04-21T05:41:37.990900Z",
     "shell.execute_reply": "2023-04-21T05:41:37.990012Z"
    },
    "papermill": {
     "duration": 0.047081,
     "end_time": "2023-04-21T05:41:37.993290",
     "exception": false,
     "start_time": "2023-04-21T05:41:37.946209",
     "status": "completed"
    },
    "tags": []
   },
   "outputs": [
    {
     "data": {
      "text/plain": [
       "count      2584.000000\n",
       "mean     133409.280186\n",
       "std       67136.837329\n",
       "min        5132.000000\n",
       "25%       84975.000000\n",
       "50%      130000.000000\n",
       "75%      175000.000000\n",
       "max      450000.000000\n",
       "Name: salary_in_usd, dtype: float64"
      ]
     },
     "execution_count": 23,
     "metadata": {},
     "output_type": "execute_result"
    }
   ],
   "source": [
    "data['salary_in_usd'].describe()"
   ]
  },
  {
   "cell_type": "code",
   "execution_count": 24,
   "id": "b7fac4ae",
   "metadata": {
    "execution": {
     "iopub.execute_input": "2023-04-21T05:41:38.062726Z",
     "iopub.status.busy": "2023-04-21T05:41:38.061669Z",
     "iopub.status.idle": "2023-04-21T05:41:38.069758Z",
     "shell.execute_reply": "2023-04-21T05:41:38.068207Z"
    },
    "papermill": {
     "duration": 0.045195,
     "end_time": "2023-04-21T05:41:38.072603",
     "exception": false,
     "start_time": "2023-04-21T05:41:38.027408",
     "status": "completed"
    },
    "tags": []
   },
   "outputs": [
    {
     "name": "stdout",
     "output_type": "stream",
     "text": [
      "Mean of salary_in_usd : 133409.28018575851 \n",
      "Median of salary_in_usd : 130000.0 \n",
      "Mode of salary_in_usd : 0    100000\n",
      "dtype: int64\n"
     ]
    }
   ],
   "source": [
    "print(\"Mean of salary_in_usd :\",data.salary_in_usd.mean(),\n",
    "     \"\\nMedian of salary_in_usd :\",data.salary_in_usd.median(),\n",
    "     \"\\nMode of salary_in_usd :\",data.salary_in_usd.mode())"
   ]
  },
  {
   "cell_type": "markdown",
   "id": "08e1021e",
   "metadata": {
    "papermill": {
     "duration": 0.032492,
     "end_time": "2023-04-21T05:41:38.139138",
     "exception": false,
     "start_time": "2023-04-21T05:41:38.106646",
     "status": "completed"
    },
    "tags": []
   },
   "source": [
    "# Frequency Distribution of Categorical Varibale"
   ]
  },
  {
   "cell_type": "code",
   "execution_count": 25,
   "id": "a1cc59b0",
   "metadata": {
    "execution": {
     "iopub.execute_input": "2023-04-21T05:41:38.206712Z",
     "iopub.status.busy": "2023-04-21T05:41:38.206277Z",
     "iopub.status.idle": "2023-04-21T05:41:38.220908Z",
     "shell.execute_reply": "2023-04-21T05:41:38.219484Z"
    },
    "papermill": {
     "duration": 0.052137,
     "end_time": "2023-04-21T05:41:38.223472",
     "exception": false,
     "start_time": "2023-04-21T05:41:38.171335",
     "status": "completed"
    },
    "tags": []
   },
   "outputs": [
    {
     "data": {
      "text/plain": [
       "work_year              4\n",
       "experience_level       4\n",
       "employment_type        4\n",
       "job_title             93\n",
       "salary_currency       20\n",
       "employee_residence    78\n",
       "remote_ratio           3\n",
       "company_location      72\n",
       "company_size           3\n",
       "dtype: int64"
      ]
     },
     "execution_count": 25,
     "metadata": {},
     "output_type": "execute_result"
    }
   ],
   "source": [
    "data[['work_year', 'experience_level', 'employment_type', 'job_title',\n",
    "        'salary_currency', 'employee_residence',\n",
    "       'remote_ratio', 'company_location', 'company_size']].nunique()"
   ]
  },
  {
   "cell_type": "markdown",
   "id": "42d1b6ab",
   "metadata": {
    "papermill": {
     "duration": 0.033474,
     "end_time": "2023-04-21T05:41:38.289390",
     "exception": false,
     "start_time": "2023-04-21T05:41:38.255916",
     "status": "completed"
    },
    "tags": []
   },
   "source": [
    "# work_year"
   ]
  },
  {
   "cell_type": "code",
   "execution_count": 26,
   "id": "f01e4f33",
   "metadata": {
    "execution": {
     "iopub.execute_input": "2023-04-21T05:41:38.356711Z",
     "iopub.status.busy": "2023-04-21T05:41:38.356276Z",
     "iopub.status.idle": "2023-04-21T05:41:38.577342Z",
     "shell.execute_reply": "2023-04-21T05:41:38.576045Z"
    },
    "papermill": {
     "duration": 0.258118,
     "end_time": "2023-04-21T05:41:38.580058",
     "exception": false,
     "start_time": "2023-04-21T05:41:38.321940",
     "status": "completed"
    },
    "tags": []
   },
   "outputs": [
    {
     "data": {
      "image/png": "[encoded data removed]",
      "text/plain": [
       "<Figure size 864x288 with 1 Axes>"
      ]
     },
     "metadata": {
      "needs_background": "light"
     },
     "output_type": "display_data"
    }
   ],
   "source": [
    "plt.figure(figsize=[12,4])\n",
    "sns.countplot(y = data['work_year'],palette='Greens')\n",
    "plt.title('Countplot for work_year Variable')\n",
    "plt.show()"
   ]
  },
  {
   "cell_type": "markdown",
   "id": "9309bcc7",
   "metadata": {
    "papermill": {
     "duration": 0.032582,
     "end_time": "2023-04-21T05:41:38.645803",
     "exception": false,
     "start_time": "2023-04-21T05:41:38.613221",
     "status": "completed"
    },
    "tags": []
   },
   "source": [
    "# experience_level"
   ]
  },
  {
   "cell_type": "code",
   "execution_count": 27,
   "id": "cef38d56",
   "metadata": {
    "execution": {
     "iopub.execute_input": "2023-04-21T05:41:38.716207Z",
     "iopub.status.busy": "2023-04-21T05:41:38.715056Z",
     "iopub.status.idle": "2023-04-21T05:41:38.945541Z",
     "shell.execute_reply": "2023-04-21T05:41:38.944206Z"
    },
    "papermill": {
     "duration": 0.268918,
     "end_time": "2023-04-21T05:41:38.948135",
     "exception": false,
     "start_time": "2023-04-21T05:41:38.679217",
     "status": "completed"
    },
    "tags": []
   },
   "outputs": [
    {
     "data": {
      "image/png": "[encoded data removed]",
      "text/plain": [
       "<Figure size 864x288 with 1 Axes>"
      ]
     },
     "metadata": {
      "needs_background": "light"
     },
     "output_type": "display_data"
    }
   ],
   "source": [
    "plt.figure(figsize=[12,4])\n",
    "sns.countplot(y = data['experience_level'],palette='Greens')\n",
    "plt.title('Countplot for experience_level Variable')\n",
    "plt.show()"
   ]
  },
  {
   "cell_type": "markdown",
   "id": "65f9a8e0",
   "metadata": {
    "papermill": {
     "duration": 0.033353,
     "end_time": "2023-04-21T05:41:39.015163",
     "exception": false,
     "start_time": "2023-04-21T05:41:38.981810",
     "status": "completed"
    },
    "tags": []
   },
   "source": [
    "1. The are more number of senior employees  : SE\n",
    "2. The second highest is Mid level experince : MI\n",
    "3. The third is ENtry level : EN\n",
    "4. The least are experts : EX\n"
   ]
  },
  {
   "cell_type": "markdown",
   "id": "290c8ced",
   "metadata": {
    "papermill": {
     "duration": 0.036936,
     "end_time": "2023-04-21T05:41:39.087484",
     "exception": false,
     "start_time": "2023-04-21T05:41:39.050548",
     "status": "completed"
    },
    "tags": []
   },
   "source": [
    "# employment_type"
   ]
  },
  {
   "cell_type": "code",
   "execution_count": 28,
   "id": "371dd4c3",
   "metadata": {
    "execution": {
     "iopub.execute_input": "2023-04-21T05:41:39.158175Z",
     "iopub.status.busy": "2023-04-21T05:41:39.157731Z",
     "iopub.status.idle": "2023-04-21T05:41:39.378883Z",
     "shell.execute_reply": "2023-04-21T05:41:39.377881Z"
    },
    "papermill": {
     "duration": 0.259352,
     "end_time": "2023-04-21T05:41:39.381616",
     "exception": false,
     "start_time": "2023-04-21T05:41:39.122264",
     "status": "completed"
    },
    "tags": []
   },
   "outputs": [
    {
     "data": {
      "image/png": "[encoded data removed]",
      "text/plain": [
       "<Figure size 864x288 with 1 Axes>"
      ]
     },
     "metadata": {
      "needs_background": "light"
     },
     "output_type": "display_data"
    }
   ],
   "source": [
    "plt.figure(figsize=[12,4])\n",
    "sns.countplot(y = data['employment_type'],order = data['employment_type'].value_counts().index,palette='Greens')\n",
    "plt.title('Countplot for employment_type Variable')\n",
    "plt.show()"
   ]
  },
  {
   "cell_type": "markdown",
   "id": "595f2f96",
   "metadata": {
    "papermill": {
     "duration": 0.033718,
     "end_time": "2023-04-21T05:41:39.449161",
     "exception": false,
     "start_time": "2023-04-21T05:41:39.415443",
     "status": "completed"
    },
    "tags": []
   },
   "source": [
    "### We can observe that there more number of Full time Employees compared to other types of employement"
   ]
  },
  {
   "cell_type": "markdown",
   "id": "3c7e5522",
   "metadata": {
    "execution": {
     "iopub.execute_input": "2023-04-14T07:45:17.136801Z",
     "iopub.status.busy": "2023-04-14T07:45:17.136366Z",
     "iopub.status.idle": "2023-04-14T07:45:17.142158Z",
     "shell.execute_reply": "2023-04-14T07:45:17.140885Z",
     "shell.execute_reply.started": "2023-04-14T07:45:17.136760Z"
    },
    "papermill": {
     "duration": 0.034664,
     "end_time": "2023-04-21T05:41:39.517405",
     "exception": false,
     "start_time": "2023-04-21T05:41:39.482741",
     "status": "completed"
    },
    "tags": []
   },
   "source": [
    "# job_title"
   ]
  },
  {
   "cell_type": "code",
   "execution_count": 29,
   "id": "b383d268",
   "metadata": {
    "execution": {
     "iopub.execute_input": "2023-04-21T05:41:39.586343Z",
     "iopub.status.busy": "2023-04-21T05:41:39.585927Z",
     "iopub.status.idle": "2023-04-21T05:41:39.916753Z",
     "shell.execute_reply": "2023-04-21T05:41:39.915887Z"
    },
    "papermill": {
     "duration": 0.369181,
     "end_time": "2023-04-21T05:41:39.919827",
     "exception": false,
     "start_time": "2023-04-21T05:41:39.550646",
     "status": "completed"
    },
    "tags": []
   },
   "outputs": [
    {
     "data": {
      "image/png": "[encoded data removed]",
      "text/plain": [
       "<Figure size 1440x288 with 1 Axes>"
      ]
     },
     "metadata": {
      "needs_background": "light"
     },
     "output_type": "display_data"
    }
   ],
   "source": [
    "plt.figure(figsize=[20,4])\n",
    "sns.countplot(x = data['job_title'],order=data['job_title'].value_counts().iloc[:10].index,palette='magma')\n",
    "plt.title('Countplot for job_title Variable')\n",
    "plt.xticks(rotation = 45)\n",
    "plt.suptitle(\"Top 10 Titles in Number in Dataset\")\n",
    "plt.show()\n"
   ]
  },
  {
   "cell_type": "markdown",
   "id": "d91aa378",
   "metadata": {
    "papermill": {
     "duration": 0.035209,
     "end_time": "2023-04-21T05:41:39.989951",
     "exception": false,
     "start_time": "2023-04-21T05:41:39.954742",
     "status": "completed"
    },
    "tags": []
   },
   "source": [
    "### There are more number of Data Engineers in our Dataset compared to Data Scientist, Data Analyst, and other job_titled employees"
   ]
  },
  {
   "cell_type": "markdown",
   "id": "cb59354d",
   "metadata": {
    "papermill": {
     "duration": 0.035658,
     "end_time": "2023-04-21T05:41:40.060953",
     "exception": false,
     "start_time": "2023-04-21T05:41:40.025295",
     "status": "completed"
    },
    "tags": []
   },
   "source": [
    "# salary_currency"
   ]
  },
  {
   "cell_type": "code",
   "execution_count": 30,
   "id": "4425fb29",
   "metadata": {
    "execution": {
     "iopub.execute_input": "2023-04-21T05:41:40.152286Z",
     "iopub.status.busy": "2023-04-21T05:41:40.151899Z",
     "iopub.status.idle": "2023-04-21T05:41:40.486934Z",
     "shell.execute_reply": "2023-04-21T05:41:40.485598Z"
    },
    "papermill": {
     "duration": 0.385672,
     "end_time": "2023-04-21T05:41:40.489721",
     "exception": false,
     "start_time": "2023-04-21T05:41:40.104049",
     "status": "completed"
    },
    "tags": []
   },
   "outputs": [
    {
     "data": {
      "image/png": "[encoded data removed]",
      "text/plain": [
       "<Figure size 864x288 with 1 Axes>"
      ]
     },
     "metadata": {
      "needs_background": "light"
     },
     "output_type": "display_data"
    }
   ],
   "source": [
    "plt.figure(figsize=[12,4])\n",
    "sns.countplot(x = data['salary_currency'],order=data['salary_currency'].value_counts().index,palette='viridis')\n",
    "plt.title('Countplot for salary_currency Variable')\n",
    "plt.show()\n"
   ]
  },
  {
   "cell_type": "code",
   "execution_count": 31,
   "id": "b711e945",
   "metadata": {
    "execution": {
     "iopub.execute_input": "2023-04-21T05:41:40.634476Z",
     "iopub.status.busy": "2023-04-21T05:41:40.633599Z",
     "iopub.status.idle": "2023-04-21T05:41:40.877456Z",
     "shell.execute_reply": "2023-04-21T05:41:40.876193Z"
    },
    "papermill": {
     "duration": 0.285242,
     "end_time": "2023-04-21T05:41:40.880250",
     "exception": false,
     "start_time": "2023-04-21T05:41:40.595008",
     "status": "completed"
    },
    "tags": []
   },
   "outputs": [
    {
     "data": {
      "image/png": "[encoded data removed]",
      "text/plain": [
       "<Figure size 864x288 with 1 Axes>"
      ]
     },
     "metadata": {
      "needs_background": "light"
     },
     "output_type": "display_data"
    }
   ],
   "source": [
    "plt.figure(figsize=[12,4])\n",
    "sns.countplot(x = data['salary_currency'],order=data['salary_currency'].value_counts().iloc[:5].index,palette='viridis')\n",
    "plt.title('Countplot for salary_currency Variable')\n",
    "plt.suptitle(\"Top 5 Salary_curreny count in Dataset\")\n",
    "plt.show()"
   ]
  },
  {
   "cell_type": "markdown",
   "id": "77d75cef",
   "metadata": {
    "papermill": {
     "duration": 0.036638,
     "end_time": "2023-04-21T05:41:40.952999",
     "exception": false,
     "start_time": "2023-04-21T05:41:40.916361",
     "status": "completed"
    },
    "tags": []
   },
   "source": [
    "### We observe that there are more number of employees who recieve their salary is USD currency"
   ]
  },
  {
   "cell_type": "markdown",
   "id": "975975af",
   "metadata": {
    "papermill": {
     "duration": 0.036925,
     "end_time": "2023-04-21T05:41:41.026410",
     "exception": false,
     "start_time": "2023-04-21T05:41:40.989485",
     "status": "completed"
    },
    "tags": []
   },
   "source": [
    "# employee_residence"
   ]
  },
  {
   "cell_type": "code",
   "execution_count": 32,
   "id": "008ac5c0",
   "metadata": {
    "execution": {
     "iopub.execute_input": "2023-04-21T05:41:41.103123Z",
     "iopub.status.busy": "2023-04-21T05:41:41.102216Z",
     "iopub.status.idle": "2023-04-21T05:41:42.068027Z",
     "shell.execute_reply": "2023-04-21T05:41:42.066675Z"
    },
    "papermill": {
     "duration": 1.00699,
     "end_time": "2023-04-21T05:41:42.070602",
     "exception": false,
     "start_time": "2023-04-21T05:41:41.063612",
     "status": "completed"
    },
    "tags": []
   },
   "outputs": [
    {
     "data": {
      "image/png": "[encoded data removed]",
      "text/plain": [
       "<Figure size 1584x288 with 1 Axes>"
      ]
     },
     "metadata": {
      "needs_background": "light"
     },
     "output_type": "display_data"
    }
   ],
   "source": [
    "plt.figure(figsize=[22,4])\n",
    "sns.countplot(x = data['employee_residence'],order = data['employee_residence'].value_counts().index,color='Green')\n",
    "plt.title('Countplot for employee_residence Variable')\n",
    "plt.show()"
   ]
  },
  {
   "cell_type": "code",
   "execution_count": 33,
   "id": "d80e9083",
   "metadata": {
    "execution": {
     "iopub.execute_input": "2023-04-21T05:41:42.148252Z",
     "iopub.status.busy": "2023-04-21T05:41:42.147298Z",
     "iopub.status.idle": "2023-04-21T05:41:42.413704Z",
     "shell.execute_reply": "2023-04-21T05:41:42.412375Z"
    },
    "papermill": {
     "duration": 0.307899,
     "end_time": "2023-04-21T05:41:42.416443",
     "exception": false,
     "start_time": "2023-04-21T05:41:42.108544",
     "status": "completed"
    },
    "tags": []
   },
   "outputs": [
    {
     "data": {
      "image/png": "[encoded data removed]",
      "text/plain": [
       "<Figure size 864x288 with 1 Axes>"
      ]
     },
     "metadata": {
      "needs_background": "light"
     },
     "output_type": "display_data"
    }
   ],
   "source": [
    "plt.figure(figsize=[12,4])\n",
    "sns.countplot(x = data['employee_residence'],order = data['employee_residence'].value_counts().iloc[:10].index,palette='magma')\n",
    "plt.title('Countplot for employee_residence Variable')\n",
    "plt.show()"
   ]
  },
  {
   "cell_type": "markdown",
   "id": "1c861be3",
   "metadata": {
    "papermill": {
     "duration": 0.037201,
     "end_time": "2023-04-21T05:41:42.490724",
     "exception": false,
     "start_time": "2023-04-21T05:41:42.453523",
     "status": "completed"
    },
    "tags": []
   },
   "source": [
    "### We observe that there are more number of employees are US settled"
   ]
  },
  {
   "cell_type": "markdown",
   "id": "1db18a9a",
   "metadata": {
    "papermill": {
     "duration": 0.037545,
     "end_time": "2023-04-21T05:41:42.565308",
     "exception": false,
     "start_time": "2023-04-21T05:41:42.527763",
     "status": "completed"
    },
    "tags": []
   },
   "source": [
    " # remote_ratio"
   ]
  },
  {
   "cell_type": "code",
   "execution_count": 34,
   "id": "19e41342",
   "metadata": {
    "execution": {
     "iopub.execute_input": "2023-04-21T05:41:42.643341Z",
     "iopub.status.busy": "2023-04-21T05:41:42.642474Z",
     "iopub.status.idle": "2023-04-21T05:41:42.857120Z",
     "shell.execute_reply": "2023-04-21T05:41:42.855808Z"
    },
    "papermill": {
     "duration": 0.256968,
     "end_time": "2023-04-21T05:41:42.860102",
     "exception": false,
     "start_time": "2023-04-21T05:41:42.603134",
     "status": "completed"
    },
    "tags": []
   },
   "outputs": [
    {
     "data": {
      "image/png": "[encoded data removed]",
      "text/plain": [
       "<Figure size 864x288 with 1 Axes>"
      ]
     },
     "metadata": {
      "needs_background": "light"
     },
     "output_type": "display_data"
    }
   ],
   "source": [
    "plt.figure(figsize=[12,4])\n",
    "sns.countplot(y = data['remote_ratio'],order =  data['remote_ratio'].value_counts().index,palette='Greens')\n",
    "plt.title('Countplot for remote_ratio Variable')\n",
    "plt.show()"
   ]
  },
  {
   "cell_type": "markdown",
   "id": "fa47a68b",
   "metadata": {
    "papermill": {
     "duration": 0.039192,
     "end_time": "2023-04-21T05:41:42.937299",
     "exception": false,
     "start_time": "2023-04-21T05:41:42.898107",
     "status": "completed"
    },
    "tags": []
   },
   "source": [
    "### Here we can observe that most of the Employees work (100) from office compared to those who work from home and have rotaional shift"
   ]
  },
  {
   "cell_type": "markdown",
   "id": "5c44bd40",
   "metadata": {
    "papermill": {
     "duration": 0.041058,
     "end_time": "2023-04-21T05:41:43.016245",
     "exception": false,
     "start_time": "2023-04-21T05:41:42.975187",
     "status": "completed"
    },
    "tags": []
   },
   "source": [
    "# company_location"
   ]
  },
  {
   "cell_type": "code",
   "execution_count": 35,
   "id": "c310d117",
   "metadata": {
    "execution": {
     "iopub.execute_input": "2023-04-21T05:41:43.099260Z",
     "iopub.status.busy": "2023-04-21T05:41:43.098107Z",
     "iopub.status.idle": "2023-04-21T05:41:44.014259Z",
     "shell.execute_reply": "2023-04-21T05:41:44.012924Z"
    },
    "papermill": {
     "duration": 0.960914,
     "end_time": "2023-04-21T05:41:44.016993",
     "exception": false,
     "start_time": "2023-04-21T05:41:43.056079",
     "status": "completed"
    },
    "tags": []
   },
   "outputs": [
    {
     "data": {
      "image/png": "[encoded data removed]",
      "text/plain": [
       "<Figure size 1584x288 with 1 Axes>"
      ]
     },
     "metadata": {
      "needs_background": "light"
     },
     "output_type": "display_data"
    }
   ],
   "source": [
    "plt.figure(figsize=[22,4])\n",
    "sns.countplot(x = data['company_location'],color='Green')\n",
    "plt.title('Countplot for company_location Variable')\n",
    "plt.show()"
   ]
  },
  {
   "cell_type": "code",
   "execution_count": 36,
   "id": "057b9d64",
   "metadata": {
    "execution": {
     "iopub.execute_input": "2023-04-21T05:41:44.100795Z",
     "iopub.status.busy": "2023-04-21T05:41:44.099888Z",
     "iopub.status.idle": "2023-04-21T05:41:44.372057Z",
     "shell.execute_reply": "2023-04-21T05:41:44.371086Z"
    },
    "papermill": {
     "duration": 0.316067,
     "end_time": "2023-04-21T05:41:44.374537",
     "exception": false,
     "start_time": "2023-04-21T05:41:44.058470",
     "status": "completed"
    },
    "tags": []
   },
   "outputs": [
    {
     "data": {
      "image/png": "[encoded data removed]",
      "text/plain": [
       "<Figure size 864x288 with 1 Axes>"
      ]
     },
     "metadata": {
      "needs_background": "light"
     },
     "output_type": "display_data"
    }
   ],
   "source": [
    "plt.figure(figsize=[12,4])\n",
    "sns.countplot(x = data['company_location'],order = data['company_location'].value_counts().iloc[:10].index,palette='magma')\n",
    "plt.title('Countplot for company_location Variable')\n",
    "plt.suptitle(\"TOP 10 company location\")\n",
    "plt.show()"
   ]
  },
  {
   "cell_type": "markdown",
   "id": "b1e16468",
   "metadata": {
    "papermill": {
     "duration": 0.039761,
     "end_time": "2023-04-21T05:41:44.454204",
     "exception": false,
     "start_time": "2023-04-21T05:41:44.414443",
     "status": "completed"
    },
    "tags": []
   },
   "source": [
    "### As observed earlier most of the employees residence is US, they recieve slary in USD, no brainer all this employees worm in US- located company"
   ]
  },
  {
   "cell_type": "markdown",
   "id": "5ac1dbb0",
   "metadata": {
    "papermill": {
     "duration": 0.041032,
     "end_time": "2023-04-21T05:41:44.534351",
     "exception": false,
     "start_time": "2023-04-21T05:41:44.493319",
     "status": "completed"
    },
    "tags": []
   },
   "source": [
    "# company_size"
   ]
  },
  {
   "cell_type": "code",
   "execution_count": 37,
   "id": "b2e2a412",
   "metadata": {
    "execution": {
     "iopub.execute_input": "2023-04-21T05:41:44.614691Z",
     "iopub.status.busy": "2023-04-21T05:41:44.614231Z",
     "iopub.status.idle": "2023-04-21T05:41:44.842575Z",
     "shell.execute_reply": "2023-04-21T05:41:44.841159Z"
    },
    "papermill": {
     "duration": 0.271269,
     "end_time": "2023-04-21T05:41:44.845151",
     "exception": false,
     "start_time": "2023-04-21T05:41:44.573882",
     "status": "completed"
    },
    "tags": []
   },
   "outputs": [
    {
     "data": {
      "image/png": "[encoded data removed]",
      "text/plain": [
       "<Figure size 864x288 with 1 Axes>"
      ]
     },
     "metadata": {
      "needs_background": "light"
     },
     "output_type": "display_data"
    }
   ],
   "source": [
    "plt.figure(figsize=[12,4])\n",
    "sns.countplot(y = data['company_size'],order=data['company_size'].value_counts().index,palette='Greens')\n",
    "plt.title('Countplot for company_size Variable')\n",
    "plt.show()"
   ]
  },
  {
   "cell_type": "markdown",
   "id": "55c0abb2",
   "metadata": {
    "papermill": {
     "duration": 0.03896,
     "end_time": "2023-04-21T05:41:44.923647",
     "exception": false,
     "start_time": "2023-04-21T05:41:44.884687",
     "status": "completed"
    },
    "tags": []
   },
   "source": [
    "## Most of the Comapanies are Medium Scaled comapred to Large and small scale**"
   ]
  },
  {
   "cell_type": "markdown",
   "id": "d8fc3fcd",
   "metadata": {
    "execution": {
     "iopub.execute_input": "2023-04-14T10:36:41.837183Z",
     "iopub.status.busy": "2023-04-14T10:36:41.836484Z",
     "iopub.status.idle": "2023-04-14T10:36:41.843354Z",
     "shell.execute_reply": "2023-04-14T10:36:41.841823Z",
     "shell.execute_reply.started": "2023-04-14T10:36:41.837137Z"
    },
    "papermill": {
     "duration": 0.040009,
     "end_time": "2023-04-21T05:41:45.003723",
     "exception": false,
     "start_time": "2023-04-21T05:41:44.963714",
     "status": "completed"
    },
    "tags": []
   },
   "source": [
    "# Bivariate Analysis"
   ]
  },
  {
   "cell_type": "code",
   "execution_count": 38,
   "id": "51679bc7",
   "metadata": {
    "execution": {
     "iopub.execute_input": "2023-04-21T05:41:45.087051Z",
     "iopub.status.busy": "2023-04-21T05:41:45.086353Z",
     "iopub.status.idle": "2023-04-21T05:41:45.377605Z",
     "shell.execute_reply": "2023-04-21T05:41:45.376111Z"
    },
    "papermill": {
     "duration": 0.335309,
     "end_time": "2023-04-21T05:41:45.380390",
     "exception": false,
     "start_time": "2023-04-21T05:41:45.045081",
     "status": "completed"
    },
    "tags": []
   },
   "outputs": [
    {
     "data": {
      "image/png": "[encoded data removed]",
      "text/plain": [
       "<Figure size 864x288 with 1 Axes>"
      ]
     },
     "metadata": {
      "needs_background": "light"
     },
     "output_type": "display_data"
    }
   ],
   "source": [
    "plt.figure(figsize=[12,4])\n",
    "sns.countplot(x = data['company_size'],hue=data['experience_level'],order=data['company_size'].value_counts().index,palette='magma')\n",
    "plt.title('Countplot for company_size Variable')\n",
    "plt.show()"
   ]
  },
  {
   "cell_type": "code",
   "execution_count": 39,
   "id": "8b3447c2",
   "metadata": {
    "execution": {
     "iopub.execute_input": "2023-04-21T05:41:45.461937Z",
     "iopub.status.busy": "2023-04-21T05:41:45.461494Z",
     "iopub.status.idle": "2023-04-21T05:41:45.784932Z",
     "shell.execute_reply": "2023-04-21T05:41:45.783945Z"
    },
    "papermill": {
     "duration": 0.367306,
     "end_time": "2023-04-21T05:41:45.787372",
     "exception": false,
     "start_time": "2023-04-21T05:41:45.420066",
     "status": "completed"
    },
    "tags": []
   },
   "outputs": [
    {
     "data": {
      "image/png": "[encoded data removed]",
      "text/plain": [
       "<Figure size 864x288 with 1 Axes>"
      ]
     },
     "metadata": {
      "needs_background": "light"
     },
     "output_type": "display_data"
    }
   ],
   "source": [
    "plt.figure(figsize=[12,4])\n",
    "sns.countplot(x = data['employment_type'],hue=data['experience_level'],order=data['employment_type'].value_counts().index,palette='magma')\n",
    "plt.title('Countplot for company_size Variable')\n",
    "plt.show()"
   ]
  },
  {
   "cell_type": "code",
   "execution_count": 40,
   "id": "d05ed508",
   "metadata": {
    "execution": {
     "iopub.execute_input": "2023-04-21T05:41:45.874630Z",
     "iopub.status.busy": "2023-04-21T05:41:45.873658Z",
     "iopub.status.idle": "2023-04-21T05:41:46.173581Z",
     "shell.execute_reply": "2023-04-21T05:41:46.172054Z"
    },
    "papermill": {
     "duration": 0.347373,
     "end_time": "2023-04-21T05:41:46.176425",
     "exception": false,
     "start_time": "2023-04-21T05:41:45.829052",
     "status": "completed"
    },
    "tags": []
   },
   "outputs": [
    {
     "data": {
      "image/png": "[encoded data removed]",
      "text/plain": [
       "<Figure size 864x288 with 1 Axes>"
      ]
     },
     "metadata": {
      "needs_background": "light"
     },
     "output_type": "display_data"
    }
   ],
   "source": [
    "plt.figure(figsize=[12,4])\n",
    "sns.countplot(x = data['remote_ratio'],hue=data['experience_level'],order=data['remote_ratio'].value_counts().index,palette='magma')\n",
    "plt.title('Countplot for company_size Variable')\n",
    "plt.show()"
   ]
  },
  {
   "cell_type": "code",
   "execution_count": 41,
   "id": "0f4cc1cf",
   "metadata": {
    "execution": {
     "iopub.execute_input": "2023-04-21T05:41:46.262040Z",
     "iopub.status.busy": "2023-04-21T05:41:46.260913Z",
     "iopub.status.idle": "2023-04-21T05:41:46.556782Z",
     "shell.execute_reply": "2023-04-21T05:41:46.555546Z"
    },
    "papermill": {
     "duration": 0.341405,
     "end_time": "2023-04-21T05:41:46.559390",
     "exception": false,
     "start_time": "2023-04-21T05:41:46.217985",
     "status": "completed"
    },
    "tags": []
   },
   "outputs": [
    {
     "data": {
      "image/png": "[encoded data removed]",
      "text/plain": [
       "<Figure size 864x288 with 1 Axes>"
      ]
     },
     "metadata": {
      "needs_background": "light"
     },
     "output_type": "display_data"
    }
   ],
   "source": [
    "plt.figure(figsize=[12,4])\n",
    "sns.countplot(x = data['employment_type'],hue=data['remote_ratio'],order=data['employment_type'].value_counts().index,palette='magma')\n",
    "plt.title('Countplot for company_size Variable')\n",
    "plt.show()"
   ]
  },
  {
   "cell_type": "code",
   "execution_count": 42,
   "id": "7b60119c",
   "metadata": {
    "execution": {
     "iopub.execute_input": "2023-04-21T05:41:46.645649Z",
     "iopub.status.busy": "2023-04-21T05:41:46.645211Z",
     "iopub.status.idle": "2023-04-21T05:41:46.919678Z",
     "shell.execute_reply": "2023-04-21T05:41:46.918551Z"
    },
    "papermill": {
     "duration": 0.321725,
     "end_time": "2023-04-21T05:41:46.922099",
     "exception": false,
     "start_time": "2023-04-21T05:41:46.600374",
     "status": "completed"
    },
    "tags": []
   },
   "outputs": [
    {
     "data": {
      "image/png": "[encoded data removed]",
      "text/plain": [
       "<Figure size 864x288 with 1 Axes>"
      ]
     },
     "metadata": {
      "needs_background": "light"
     },
     "output_type": "display_data"
    }
   ],
   "source": [
    "plt.figure(figsize=[12,4])\n",
    "sns.countplot(x = data['company_size'],hue=data['remote_ratio'],order=data['company_size'].value_counts().index,palette='magma')\n",
    "plt.title('Countplot for company_size Variable')\n",
    "plt.show()"
   ]
  },
  {
   "cell_type": "code",
   "execution_count": 43,
   "id": "9d129c74",
   "metadata": {
    "execution": {
     "iopub.execute_input": "2023-04-21T05:41:47.010424Z",
     "iopub.status.busy": "2023-04-21T05:41:47.009531Z",
     "iopub.status.idle": "2023-04-21T05:41:47.550653Z",
     "shell.execute_reply": "2023-04-21T05:41:47.549314Z"
    },
    "papermill": {
     "duration": 0.589052,
     "end_time": "2023-04-21T05:41:47.553492",
     "exception": false,
     "start_time": "2023-04-21T05:41:46.964440",
     "status": "completed"
    },
    "tags": []
   },
   "outputs": [
    {
     "data": {
      "image/png": "[encoded data removed]",
      "text/plain": [
       "<Figure size 864x288 with 1 Axes>"
      ]
     },
     "metadata": {
      "needs_background": "light"
     },
     "output_type": "display_data"
    }
   ],
   "source": [
    "plt.figure(figsize=[12,4])\n",
    "sns.countplot(x = data['company_size'],hue=data['remote_ratio'],order=data['company_size'].value_counts().index,palette='magma')\n",
    "plt.title('Countplot for company_size Variable')\n",
    "plt.show()"
   ]
  },
  {
   "cell_type": "markdown",
   "id": "60406556",
   "metadata": {
    "papermill": {
     "duration": 0.042093,
     "end_time": "2023-04-21T05:41:47.638966",
     "exception": false,
     "start_time": "2023-04-21T05:41:47.596873",
     "status": "completed"
    },
    "tags": []
   },
   "source": [
    "## Create Dummy Variables for Categorical Variabe"
   ]
  },
  {
   "cell_type": "code",
   "execution_count": 44,
   "id": "d0915e96",
   "metadata": {
    "execution": {
     "iopub.execute_input": "2023-04-21T05:41:47.729163Z",
     "iopub.status.busy": "2023-04-21T05:41:47.728770Z",
     "iopub.status.idle": "2023-04-21T05:41:47.744662Z",
     "shell.execute_reply": "2023-04-21T05:41:47.743498Z"
    },
    "papermill": {
     "duration": 0.0641,
     "end_time": "2023-04-21T05:41:47.747332",
     "exception": false,
     "start_time": "2023-04-21T05:41:47.683232",
     "status": "completed"
    },
    "tags": []
   },
   "outputs": [
    {
     "data": {
      "text/html": [
       "<div>\n",
       "<style scoped>\n",
       "    .dataframe tbody tr th:only-of-type {\n",
       "        vertical-align: middle;\n",
       "    }\n",
       "\n",
       "    .dataframe tbody tr th {\n",
       "        vertical-align: top;\n",
       "    }\n",
       "\n",
       "    .dataframe thead th {\n",
       "        text-align: right;\n",
       "    }\n",
       "</style>\n",
       "<table border=\"1\" class=\"dataframe\">\n",
       "  <thead>\n",
       "    <tr style=\"text-align: right;\">\n",
       "      <th></th>\n",
       "      <th>experience_level</th>\n",
       "      <th>employment_type</th>\n",
       "      <th>company_size</th>\n",
       "    </tr>\n",
       "  </thead>\n",
       "  <tbody>\n",
       "    <tr>\n",
       "      <th>0</th>\n",
       "      <td>SE</td>\n",
       "      <td>FT</td>\n",
       "      <td>L</td>\n",
       "    </tr>\n",
       "    <tr>\n",
       "      <th>1</th>\n",
       "      <td>MI</td>\n",
       "      <td>CT</td>\n",
       "      <td>S</td>\n",
       "    </tr>\n",
       "    <tr>\n",
       "      <th>2</th>\n",
       "      <td>MI</td>\n",
       "      <td>CT</td>\n",
       "      <td>S</td>\n",
       "    </tr>\n",
       "    <tr>\n",
       "      <th>3</th>\n",
       "      <td>SE</td>\n",
       "      <td>FT</td>\n",
       "      <td>M</td>\n",
       "    </tr>\n",
       "    <tr>\n",
       "      <th>4</th>\n",
       "      <td>SE</td>\n",
       "      <td>FT</td>\n",
       "      <td>M</td>\n",
       "    </tr>\n",
       "    <tr>\n",
       "      <th>...</th>\n",
       "      <td>...</td>\n",
       "      <td>...</td>\n",
       "      <td>...</td>\n",
       "    </tr>\n",
       "    <tr>\n",
       "      <th>3750</th>\n",
       "      <td>SE</td>\n",
       "      <td>FT</td>\n",
       "      <td>L</td>\n",
       "    </tr>\n",
       "    <tr>\n",
       "      <th>3751</th>\n",
       "      <td>MI</td>\n",
       "      <td>FT</td>\n",
       "      <td>L</td>\n",
       "    </tr>\n",
       "    <tr>\n",
       "      <th>3752</th>\n",
       "      <td>EN</td>\n",
       "      <td>FT</td>\n",
       "      <td>S</td>\n",
       "    </tr>\n",
       "    <tr>\n",
       "      <th>3753</th>\n",
       "      <td>EN</td>\n",
       "      <td>CT</td>\n",
       "      <td>L</td>\n",
       "    </tr>\n",
       "    <tr>\n",
       "      <th>3754</th>\n",
       "      <td>SE</td>\n",
       "      <td>FT</td>\n",
       "      <td>L</td>\n",
       "    </tr>\n",
       "  </tbody>\n",
       "</table>\n",
       "<p>2584 rows × 3 columns</p>\n",
       "</div>"
      ],
      "text/plain": [
       "     experience_level employment_type company_size\n",
       "0                  SE              FT            L\n",
       "1                  MI              CT            S\n",
       "2                  MI              CT            S\n",
       "3                  SE              FT            M\n",
       "4                  SE              FT            M\n",
       "...               ...             ...          ...\n",
       "3750               SE              FT            L\n",
       "3751               MI              FT            L\n",
       "3752               EN              FT            S\n",
       "3753               EN              CT            L\n",
       "3754               SE              FT            L\n",
       "\n",
       "[2584 rows x 3 columns]"
      ]
     },
     "execution_count": 44,
     "metadata": {},
     "output_type": "execute_result"
    }
   ],
   "source": [
    "dumm=['experience_level','employment_type','company_size']\n",
    "data[dumm].astype(str)"
   ]
  },
  {
   "cell_type": "code",
   "execution_count": 45,
   "id": "6bd1aea9",
   "metadata": {
    "execution": {
     "iopub.execute_input": "2023-04-21T05:41:47.840205Z",
     "iopub.status.busy": "2023-04-21T05:41:47.839756Z",
     "iopub.status.idle": "2023-04-21T05:41:47.863432Z",
     "shell.execute_reply": "2023-04-21T05:41:47.862440Z"
    },
    "papermill": {
     "duration": 0.072166,
     "end_time": "2023-04-21T05:41:47.866009",
     "exception": false,
     "start_time": "2023-04-21T05:41:47.793843",
     "status": "completed"
    },
    "tags": []
   },
   "outputs": [],
   "source": [
    "data =pd.get_dummies(data,columns=['experience_level'],prefix= 'experience_level',drop_first=True)\n",
    "data =pd.get_dummies(data,columns=['employment_type'],prefix= 'employment_type',drop_first=True)\n",
    "data =pd.get_dummies(data,columns=['company_size'],prefix= 'company_size',drop_first=True)"
   ]
  },
  {
   "cell_type": "markdown",
   "id": "243aeb1c",
   "metadata": {
    "papermill": {
     "duration": 0.044027,
     "end_time": "2023-04-21T05:41:47.954157",
     "exception": false,
     "start_time": "2023-04-21T05:41:47.910130",
     "status": "completed"
    },
    "tags": []
   },
   "source": [
    "# work_year"
   ]
  },
  {
   "cell_type": "code",
   "execution_count": 46,
   "id": "56e36e8a",
   "metadata": {
    "execution": {
     "iopub.execute_input": "2023-04-21T05:41:48.043631Z",
     "iopub.status.busy": "2023-04-21T05:41:48.043128Z",
     "iopub.status.idle": "2023-04-21T05:41:48.053418Z",
     "shell.execute_reply": "2023-04-21T05:41:48.052127Z"
    },
    "papermill": {
     "duration": 0.058722,
     "end_time": "2023-04-21T05:41:48.056432",
     "exception": false,
     "start_time": "2023-04-21T05:41:47.997710",
     "status": "completed"
    },
    "tags": []
   },
   "outputs": [
    {
     "data": {
      "text/plain": [
       "2023    1156\n",
       "2022    1125\n",
       "2021     228\n",
       "2020      75\n",
       "Name: work_year, dtype: int64"
      ]
     },
     "execution_count": 46,
     "metadata": {},
     "output_type": "execute_result"
    }
   ],
   "source": [
    "data['work_year'].value_counts()"
   ]
  },
  {
   "cell_type": "code",
   "execution_count": 47,
   "id": "b21422fa",
   "metadata": {
    "execution": {
     "iopub.execute_input": "2023-04-21T05:41:48.151464Z",
     "iopub.status.busy": "2023-04-21T05:41:48.150882Z",
     "iopub.status.idle": "2023-04-21T05:41:48.164367Z",
     "shell.execute_reply": "2023-04-21T05:41:48.162993Z"
    },
    "papermill": {
     "duration": 0.065217,
     "end_time": "2023-04-21T05:41:48.167392",
     "exception": false,
     "start_time": "2023-04-21T05:41:48.102175",
     "status": "completed"
    },
    "tags": []
   },
   "outputs": [],
   "source": [
    "data =pd.get_dummies(data,columns=['work_year'],prefix= 'work_year_',drop_first=True)\n"
   ]
  },
  {
   "cell_type": "code",
   "execution_count": 48,
   "id": "8a6fe1d4",
   "metadata": {
    "execution": {
     "iopub.execute_input": "2023-04-21T05:41:48.257582Z",
     "iopub.status.busy": "2023-04-21T05:41:48.257157Z",
     "iopub.status.idle": "2023-04-21T05:41:48.275892Z",
     "shell.execute_reply": "2023-04-21T05:41:48.274408Z"
    },
    "papermill": {
     "duration": 0.067025,
     "end_time": "2023-04-21T05:41:48.278679",
     "exception": false,
     "start_time": "2023-04-21T05:41:48.211654",
     "status": "completed"
    },
    "tags": []
   },
   "outputs": [
    {
     "data": {
      "text/html": [
       "<div>\n",
       "<style scoped>\n",
       "    .dataframe tbody tr th:only-of-type {\n",
       "        vertical-align: middle;\n",
       "    }\n",
       "\n",
       "    .dataframe tbody tr th {\n",
       "        vertical-align: top;\n",
       "    }\n",
       "\n",
       "    .dataframe thead th {\n",
       "        text-align: right;\n",
       "    }\n",
       "</style>\n",
       "<table border=\"1\" class=\"dataframe\">\n",
       "  <thead>\n",
       "    <tr style=\"text-align: right;\">\n",
       "      <th></th>\n",
       "      <th>job_title</th>\n",
       "      <th>salary</th>\n",
       "      <th>salary_currency</th>\n",
       "      <th>salary_in_usd</th>\n",
       "      <th>employee_residence</th>\n",
       "      <th>remote_ratio</th>\n",
       "      <th>company_location</th>\n",
       "      <th>experience_level_EX</th>\n",
       "      <th>experience_level_MI</th>\n",
       "      <th>experience_level_SE</th>\n",
       "      <th>employment_type_FL</th>\n",
       "      <th>employment_type_FT</th>\n",
       "      <th>employment_type_PT</th>\n",
       "      <th>company_size_M</th>\n",
       "      <th>company_size_S</th>\n",
       "      <th>work_year__2021</th>\n",
       "      <th>work_year__2022</th>\n",
       "      <th>work_year__2023</th>\n",
       "    </tr>\n",
       "  </thead>\n",
       "  <tbody>\n",
       "    <tr>\n",
       "      <th>0</th>\n",
       "      <td>Principal Data Scientist</td>\n",
       "      <td>80000</td>\n",
       "      <td>EUR</td>\n",
       "      <td>85847</td>\n",
       "      <td>ES</td>\n",
       "      <td>100</td>\n",
       "      <td>ES</td>\n",
       "      <td>0</td>\n",
       "      <td>0</td>\n",
       "      <td>1</td>\n",
       "      <td>0</td>\n",
       "      <td>1</td>\n",
       "      <td>0</td>\n",
       "      <td>0</td>\n",
       "      <td>0</td>\n",
       "      <td>0</td>\n",
       "      <td>0</td>\n",
       "      <td>1</td>\n",
       "    </tr>\n",
       "    <tr>\n",
       "      <th>1</th>\n",
       "      <td>ML Engineer</td>\n",
       "      <td>30000</td>\n",
       "      <td>USD</td>\n",
       "      <td>30000</td>\n",
       "      <td>US</td>\n",
       "      <td>100</td>\n",
       "      <td>US</td>\n",
       "      <td>0</td>\n",
       "      <td>1</td>\n",
       "      <td>0</td>\n",
       "      <td>0</td>\n",
       "      <td>0</td>\n",
       "      <td>0</td>\n",
       "      <td>0</td>\n",
       "      <td>1</td>\n",
       "      <td>0</td>\n",
       "      <td>0</td>\n",
       "      <td>1</td>\n",
       "    </tr>\n",
       "    <tr>\n",
       "      <th>2</th>\n",
       "      <td>ML Engineer</td>\n",
       "      <td>25500</td>\n",
       "      <td>USD</td>\n",
       "      <td>25500</td>\n",
       "      <td>US</td>\n",
       "      <td>100</td>\n",
       "      <td>US</td>\n",
       "      <td>0</td>\n",
       "      <td>1</td>\n",
       "      <td>0</td>\n",
       "      <td>0</td>\n",
       "      <td>0</td>\n",
       "      <td>0</td>\n",
       "      <td>0</td>\n",
       "      <td>1</td>\n",
       "      <td>0</td>\n",
       "      <td>0</td>\n",
       "      <td>1</td>\n",
       "    </tr>\n",
       "    <tr>\n",
       "      <th>3</th>\n",
       "      <td>Data Scientist</td>\n",
       "      <td>175000</td>\n",
       "      <td>USD</td>\n",
       "      <td>175000</td>\n",
       "      <td>CA</td>\n",
       "      <td>100</td>\n",
       "      <td>CA</td>\n",
       "      <td>0</td>\n",
       "      <td>0</td>\n",
       "      <td>1</td>\n",
       "      <td>0</td>\n",
       "      <td>1</td>\n",
       "      <td>0</td>\n",
       "      <td>1</td>\n",
       "      <td>0</td>\n",
       "      <td>0</td>\n",
       "      <td>0</td>\n",
       "      <td>1</td>\n",
       "    </tr>\n",
       "    <tr>\n",
       "      <th>4</th>\n",
       "      <td>Data Scientist</td>\n",
       "      <td>120000</td>\n",
       "      <td>USD</td>\n",
       "      <td>120000</td>\n",
       "      <td>CA</td>\n",
       "      <td>100</td>\n",
       "      <td>CA</td>\n",
       "      <td>0</td>\n",
       "      <td>0</td>\n",
       "      <td>1</td>\n",
       "      <td>0</td>\n",
       "      <td>1</td>\n",
       "      <td>0</td>\n",
       "      <td>1</td>\n",
       "      <td>0</td>\n",
       "      <td>0</td>\n",
       "      <td>0</td>\n",
       "      <td>1</td>\n",
       "    </tr>\n",
       "  </tbody>\n",
       "</table>\n",
       "</div>"
      ],
      "text/plain": [
       "                  job_title  salary salary_currency  salary_in_usd  \\\n",
       "0  Principal Data Scientist   80000             EUR          85847   \n",
       "1               ML Engineer   30000             USD          30000   \n",
       "2               ML Engineer   25500             USD          25500   \n",
       "3            Data Scientist  175000             USD         175000   \n",
       "4            Data Scientist  120000             USD         120000   \n",
       "\n",
       "  employee_residence  remote_ratio company_location  experience_level_EX  \\\n",
       "0                 ES           100               ES                    0   \n",
       "1                 US           100               US                    0   \n",
       "2                 US           100               US                    0   \n",
       "3                 CA           100               CA                    0   \n",
       "4                 CA           100               CA                    0   \n",
       "\n",
       "   experience_level_MI  experience_level_SE  employment_type_FL  \\\n",
       "0                    0                    1                   0   \n",
       "1                    1                    0                   0   \n",
       "2                    1                    0                   0   \n",
       "3                    0                    1                   0   \n",
       "4                    0                    1                   0   \n",
       "\n",
       "   employment_type_FT  employment_type_PT  company_size_M  company_size_S  \\\n",
       "0                   1                   0               0               0   \n",
       "1                   0                   0               0               1   \n",
       "2                   0                   0               0               1   \n",
       "3                   1                   0               1               0   \n",
       "4                   1                   0               1               0   \n",
       "\n",
       "   work_year__2021  work_year__2022  work_year__2023  \n",
       "0                0                0                1  \n",
       "1                0                0                1  \n",
       "2                0                0                1  \n",
       "3                0                0                1  \n",
       "4                0                0                1  "
      ]
     },
     "execution_count": 48,
     "metadata": {},
     "output_type": "execute_result"
    }
   ],
   "source": [
    "data.head()"
   ]
  },
  {
   "cell_type": "code",
   "execution_count": null,
   "id": "399d4a22",
   "metadata": {
    "papermill": {
     "duration": 0.043642,
     "end_time": "2023-04-21T05:41:48.367365",
     "exception": false,
     "start_time": "2023-04-21T05:41:48.323723",
     "status": "completed"
    },
    "tags": []
   },
   "outputs": [],
   "source": []
  },
  {
   "cell_type": "markdown",
   "id": "cb4b088a",
   "metadata": {
    "papermill": {
     "duration": 0.04334,
     "end_time": "2023-04-21T05:41:48.454759",
     "exception": false,
     "start_time": "2023-04-21T05:41:48.411419",
     "status": "completed"
    },
    "tags": []
   },
   "source": [
    "# Handling categorical varaibles with lots of categories"
   ]
  },
  {
   "cell_type": "code",
   "execution_count": 49,
   "id": "dbdcc317",
   "metadata": {
    "execution": {
     "iopub.execute_input": "2023-04-21T05:41:48.545529Z",
     "iopub.status.busy": "2023-04-21T05:41:48.545103Z",
     "iopub.status.idle": "2023-04-21T05:41:48.549944Z",
     "shell.execute_reply": "2023-04-21T05:41:48.548728Z"
    },
    "papermill": {
     "duration": 0.053123,
     "end_time": "2023-04-21T05:41:48.552576",
     "exception": false,
     "start_time": "2023-04-21T05:41:48.499453",
     "status": "completed"
    },
    "tags": []
   },
   "outputs": [],
   "source": [
    "# The variables with lots of categories in it ['company_location','employee_residence','salary_currency','job_title']"
   ]
  },
  {
   "cell_type": "markdown",
   "id": "9bcf5fb2",
   "metadata": {
    "papermill": {
     "duration": 0.043761,
     "end_time": "2023-04-21T05:41:48.641647",
     "exception": false,
     "start_time": "2023-04-21T05:41:48.597886",
     "status": "completed"
    },
    "tags": []
   },
   "source": [
    "# company_location"
   ]
  },
  {
   "cell_type": "code",
   "execution_count": 50,
   "id": "a500ecf6",
   "metadata": {
    "execution": {
     "iopub.execute_input": "2023-04-21T05:41:48.734264Z",
     "iopub.status.busy": "2023-04-21T05:41:48.733421Z",
     "iopub.status.idle": "2023-04-21T05:41:48.742982Z",
     "shell.execute_reply": "2023-04-21T05:41:48.741799Z"
    },
    "papermill": {
     "duration": 0.05891,
     "end_time": "2023-04-21T05:41:48.745620",
     "exception": false,
     "start_time": "2023-04-21T05:41:48.686710",
     "status": "completed"
    },
    "tags": []
   },
   "outputs": [
    {
     "data": {
      "text/plain": [
       "US    1929\n",
       "GB     155\n",
       "CA      83\n",
       "IN      57\n",
       "DE      55\n",
       "      ... \n",
       "MK       1\n",
       "BS       1\n",
       "IR       1\n",
       "CR       1\n",
       "MT       1\n",
       "Name: company_location, Length: 72, dtype: int64"
      ]
     },
     "execution_count": 50,
     "metadata": {},
     "output_type": "execute_result"
    }
   ],
   "source": [
    "data['company_location'].value_counts()"
   ]
  },
  {
   "cell_type": "code",
   "execution_count": 51,
   "id": "8f14cbfb",
   "metadata": {
    "execution": {
     "iopub.execute_input": "2023-04-21T05:41:48.836546Z",
     "iopub.status.busy": "2023-04-21T05:41:48.836039Z",
     "iopub.status.idle": "2023-04-21T05:41:48.842916Z",
     "shell.execute_reply": "2023-04-21T05:41:48.841606Z"
    },
    "papermill": {
     "duration": 0.054783,
     "end_time": "2023-04-21T05:41:48.845540",
     "exception": false,
     "start_time": "2023-04-21T05:41:48.790757",
     "status": "completed"
    },
    "tags": []
   },
   "outputs": [],
   "source": [
    "data['company_location'] = np.where(data['company_location']==\"US\",1,0)"
   ]
  },
  {
   "cell_type": "code",
   "execution_count": 52,
   "id": "0fa65812",
   "metadata": {
    "execution": {
     "iopub.execute_input": "2023-04-21T05:41:48.936273Z",
     "iopub.status.busy": "2023-04-21T05:41:48.935839Z",
     "iopub.status.idle": "2023-04-21T05:41:48.941807Z",
     "shell.execute_reply": "2023-04-21T05:41:48.940608Z"
    },
    "papermill": {
     "duration": 0.054744,
     "end_time": "2023-04-21T05:41:48.944616",
     "exception": false,
     "start_time": "2023-04-21T05:41:48.889872",
     "status": "completed"
    },
    "tags": []
   },
   "outputs": [],
   "source": [
    "data.rename(columns={'company_location':'company_location_US'},inplace=True)"
   ]
  },
  {
   "cell_type": "markdown",
   "id": "767ace35",
   "metadata": {
    "papermill": {
     "duration": 0.044822,
     "end_time": "2023-04-21T05:41:49.033367",
     "exception": false,
     "start_time": "2023-04-21T05:41:48.988545",
     "status": "completed"
    },
    "tags": []
   },
   "source": [
    "# employee_residence"
   ]
  },
  {
   "cell_type": "code",
   "execution_count": 53,
   "id": "55d2a7e5",
   "metadata": {
    "execution": {
     "iopub.execute_input": "2023-04-21T05:41:49.125424Z",
     "iopub.status.busy": "2023-04-21T05:41:49.125024Z",
     "iopub.status.idle": "2023-04-21T05:41:49.134704Z",
     "shell.execute_reply": "2023-04-21T05:41:49.133668Z"
    },
    "papermill": {
     "duration": 0.059797,
     "end_time": "2023-04-21T05:41:49.137094",
     "exception": false,
     "start_time": "2023-04-21T05:41:49.077297",
     "status": "completed"
    },
    "tags": []
   },
   "outputs": [
    {
     "data": {
      "text/plain": [
       "US    1893\n",
       "GB     150\n",
       "CA      81\n",
       "IN      70\n",
       "ES      47\n",
       "      ... \n",
       "BA       1\n",
       "AM       1\n",
       "CY       1\n",
       "KW       1\n",
       "MT       1\n",
       "Name: employee_residence, Length: 78, dtype: int64"
      ]
     },
     "execution_count": 53,
     "metadata": {},
     "output_type": "execute_result"
    }
   ],
   "source": [
    "data['employee_residence'].value_counts()"
   ]
  },
  {
   "cell_type": "code",
   "execution_count": 54,
   "id": "ccff243d",
   "metadata": {
    "execution": {
     "iopub.execute_input": "2023-04-21T05:41:49.229125Z",
     "iopub.status.busy": "2023-04-21T05:41:49.228080Z",
     "iopub.status.idle": "2023-04-21T05:41:49.234679Z",
     "shell.execute_reply": "2023-04-21T05:41:49.233731Z"
    },
    "papermill": {
     "duration": 0.054421,
     "end_time": "2023-04-21T05:41:49.237020",
     "exception": false,
     "start_time": "2023-04-21T05:41:49.182599",
     "status": "completed"
    },
    "tags": []
   },
   "outputs": [],
   "source": [
    "data['employee_residence'] = np.where(data['employee_residence']==\"US\",1,0)"
   ]
  },
  {
   "cell_type": "code",
   "execution_count": 55,
   "id": "d8d17ffe",
   "metadata": {
    "execution": {
     "iopub.execute_input": "2023-04-21T05:41:49.327526Z",
     "iopub.status.busy": "2023-04-21T05:41:49.326485Z",
     "iopub.status.idle": "2023-04-21T05:41:49.332446Z",
     "shell.execute_reply": "2023-04-21T05:41:49.331498Z"
    },
    "papermill": {
     "duration": 0.053895,
     "end_time": "2023-04-21T05:41:49.335069",
     "exception": false,
     "start_time": "2023-04-21T05:41:49.281174",
     "status": "completed"
    },
    "tags": []
   },
   "outputs": [],
   "source": [
    "data.rename(columns={'employee_residence':'employee_residence_US'},inplace=True)"
   ]
  },
  {
   "cell_type": "markdown",
   "id": "16337485",
   "metadata": {
    "papermill": {
     "duration": 0.044055,
     "end_time": "2023-04-21T05:41:49.423287",
     "exception": false,
     "start_time": "2023-04-21T05:41:49.379232",
     "status": "completed"
    },
    "tags": []
   },
   "source": [
    "# salary_currency"
   ]
  },
  {
   "cell_type": "code",
   "execution_count": 56,
   "id": "73d622be",
   "metadata": {
    "execution": {
     "iopub.execute_input": "2023-04-21T05:41:49.513894Z",
     "iopub.status.busy": "2023-04-21T05:41:49.512863Z",
     "iopub.status.idle": "2023-04-21T05:41:49.523221Z",
     "shell.execute_reply": "2023-04-21T05:41:49.521671Z"
    },
    "papermill": {
     "duration": 0.058614,
     "end_time": "2023-04-21T05:41:49.525818",
     "exception": false,
     "start_time": "2023-04-21T05:41:49.467204",
     "status": "completed"
    },
    "tags": []
   },
   "outputs": [
    {
     "data": {
      "text/plain": [
       "USD    2107\n",
       "EUR     200\n",
       "GBP     144\n",
       "INR      59\n",
       "CAD      25\n",
       "AUD       9\n",
       "SGD       6\n",
       "BRL       6\n",
       "PLN       5\n",
       "CHF       4\n",
       "HUF       3\n",
       "DKK       3\n",
       "JPY       3\n",
       "TRY       3\n",
       "THB       2\n",
       "ILS       1\n",
       "HKD       1\n",
       "CZK       1\n",
       "MXN       1\n",
       "CLP       1\n",
       "Name: salary_currency, dtype: int64"
      ]
     },
     "execution_count": 56,
     "metadata": {},
     "output_type": "execute_result"
    }
   ],
   "source": [
    "data['salary_currency'].value_counts()"
   ]
  },
  {
   "cell_type": "code",
   "execution_count": 57,
   "id": "845d54cd",
   "metadata": {
    "execution": {
     "iopub.execute_input": "2023-04-21T05:41:49.616488Z",
     "iopub.status.busy": "2023-04-21T05:41:49.615801Z",
     "iopub.status.idle": "2023-04-21T05:41:49.623228Z",
     "shell.execute_reply": "2023-04-21T05:41:49.621894Z"
    },
    "papermill": {
     "duration": 0.055809,
     "end_time": "2023-04-21T05:41:49.625933",
     "exception": false,
     "start_time": "2023-04-21T05:41:49.570124",
     "status": "completed"
    },
    "tags": []
   },
   "outputs": [],
   "source": [
    "data['salary_currency'] = np.where(data['salary_currency']==\"USD\",1,0)"
   ]
  },
  {
   "cell_type": "code",
   "execution_count": 58,
   "id": "ec1a0e13",
   "metadata": {
    "execution": {
     "iopub.execute_input": "2023-04-21T05:41:49.716906Z",
     "iopub.status.busy": "2023-04-21T05:41:49.716245Z",
     "iopub.status.idle": "2023-04-21T05:41:49.722307Z",
     "shell.execute_reply": "2023-04-21T05:41:49.721130Z"
    },
    "papermill": {
     "duration": 0.054673,
     "end_time": "2023-04-21T05:41:49.724915",
     "exception": false,
     "start_time": "2023-04-21T05:41:49.670242",
     "status": "completed"
    },
    "tags": []
   },
   "outputs": [],
   "source": [
    "data.rename(columns={'salary_currency':'salary_currency_USD'},inplace=True)"
   ]
  },
  {
   "cell_type": "markdown",
   "id": "2fb041a9",
   "metadata": {
    "papermill": {
     "duration": 0.045588,
     "end_time": "2023-04-21T05:41:49.814499",
     "exception": false,
     "start_time": "2023-04-21T05:41:49.768911",
     "status": "completed"
    },
    "tags": []
   },
   "source": [
    "# job_title"
   ]
  },
  {
   "cell_type": "code",
   "execution_count": 59,
   "id": "45bcf387",
   "metadata": {
    "execution": {
     "iopub.execute_input": "2023-04-21T05:41:49.905495Z",
     "iopub.status.busy": "2023-04-21T05:41:49.905037Z",
     "iopub.status.idle": "2023-04-21T05:41:49.915964Z",
     "shell.execute_reply": "2023-04-21T05:41:49.914712Z"
    },
    "papermill": {
     "duration": 0.059712,
     "end_time": "2023-04-21T05:41:49.918924",
     "exception": false,
     "start_time": "2023-04-21T05:41:49.859212",
     "status": "completed"
    },
    "tags": []
   },
   "outputs": [
    {
     "data": {
      "text/plain": [
       "Data Engineer                598\n",
       "Data Scientist               538\n",
       "Data Analyst                 396\n",
       "Machine Learning Engineer    206\n",
       "Analytics Engineer            91\n",
       "                            ... \n",
       "Compliance Data Analyst        1\n",
       "Deep Learning Researcher       1\n",
       "Staff Data Analyst             1\n",
       "Data DevOps Engineer           1\n",
       "Finance Data Analyst           1\n",
       "Name: job_title, Length: 93, dtype: int64"
      ]
     },
     "execution_count": 59,
     "metadata": {},
     "output_type": "execute_result"
    }
   ],
   "source": [
    "data['job_title'].value_counts()"
   ]
  },
  {
   "cell_type": "code",
   "execution_count": 60,
   "id": "6c47807e",
   "metadata": {
    "execution": {
     "iopub.execute_input": "2023-04-21T05:41:50.011413Z",
     "iopub.status.busy": "2023-04-21T05:41:50.011013Z",
     "iopub.status.idle": "2023-04-21T05:41:50.019768Z",
     "shell.execute_reply": "2023-04-21T05:41:50.018407Z"
    },
    "papermill": {
     "duration": 0.058385,
     "end_time": "2023-04-21T05:41:50.022303",
     "exception": false,
     "start_time": "2023-04-21T05:41:49.963918",
     "status": "completed"
    },
    "tags": []
   },
   "outputs": [],
   "source": [
    "data['job_title'] = np.where(data['job_title']==\"Data Engineer\",data['job_title'],\n",
    "                            np.where(data['job_title']==\"Data Scientist\",data['job_title'],\n",
    "                              np.where(data['job_title']==\"Data Analyst\",data['job_title'],\n",
    "                                      np.where(data['job_title']==\"Machine Learning Engineer\",data['job_title'],\"Other\"))))"
   ]
  },
  {
   "cell_type": "code",
   "execution_count": 61,
   "id": "6b6be5d4",
   "metadata": {
    "execution": {
     "iopub.execute_input": "2023-04-21T05:41:50.114496Z",
     "iopub.status.busy": "2023-04-21T05:41:50.113821Z",
     "iopub.status.idle": "2023-04-21T05:41:50.123404Z",
     "shell.execute_reply": "2023-04-21T05:41:50.122117Z"
    },
    "papermill": {
     "duration": 0.059032,
     "end_time": "2023-04-21T05:41:50.125904",
     "exception": false,
     "start_time": "2023-04-21T05:41:50.066872",
     "status": "completed"
    },
    "tags": []
   },
   "outputs": [
    {
     "data": {
      "text/plain": [
       "Other                        846\n",
       "Data Engineer                598\n",
       "Data Scientist               538\n",
       "Data Analyst                 396\n",
       "Machine Learning Engineer    206\n",
       "Name: job_title, dtype: int64"
      ]
     },
     "execution_count": 61,
     "metadata": {},
     "output_type": "execute_result"
    }
   ],
   "source": [
    "data['job_title'].value_counts()"
   ]
  },
  {
   "cell_type": "code",
   "execution_count": 62,
   "id": "c9e385ab",
   "metadata": {
    "execution": {
     "iopub.execute_input": "2023-04-21T05:41:50.216890Z",
     "iopub.status.busy": "2023-04-21T05:41:50.216173Z",
     "iopub.status.idle": "2023-04-21T05:41:50.225551Z",
     "shell.execute_reply": "2023-04-21T05:41:50.224693Z"
    },
    "papermill": {
     "duration": 0.058049,
     "end_time": "2023-04-21T05:41:50.228152",
     "exception": false,
     "start_time": "2023-04-21T05:41:50.170103",
     "status": "completed"
    },
    "tags": []
   },
   "outputs": [],
   "source": [
    "data =pd.get_dummies(data,columns=['job_title'],prefix= 'company_size',drop_first=True)"
   ]
  },
  {
   "cell_type": "code",
   "execution_count": 63,
   "id": "20de4a05",
   "metadata": {
    "execution": {
     "iopub.execute_input": "2023-04-21T05:41:50.319248Z",
     "iopub.status.busy": "2023-04-21T05:41:50.318486Z",
     "iopub.status.idle": "2023-04-21T05:41:50.325810Z",
     "shell.execute_reply": "2023-04-21T05:41:50.324658Z"
    },
    "papermill": {
     "duration": 0.055988,
     "end_time": "2023-04-21T05:41:50.328148",
     "exception": false,
     "start_time": "2023-04-21T05:41:50.272160",
     "status": "completed"
    },
    "tags": []
   },
   "outputs": [
    {
     "data": {
      "text/plain": [
       "['company_location_US', 'employee_residence_US', 'salary_currency_USD']"
      ]
     },
     "execution_count": 63,
     "metadata": {},
     "output_type": "execute_result"
    }
   ],
   "source": [
    "# Renamed variables\n",
    "['company_location_US','employee_residence_US','salary_currency_USD']"
   ]
  },
  {
   "cell_type": "code",
   "execution_count": 64,
   "id": "a8479512",
   "metadata": {
    "execution": {
     "iopub.execute_input": "2023-04-21T05:41:50.419219Z",
     "iopub.status.busy": "2023-04-21T05:41:50.418481Z",
     "iopub.status.idle": "2023-04-21T05:41:50.437916Z",
     "shell.execute_reply": "2023-04-21T05:41:50.436662Z"
    },
    "papermill": {
     "duration": 0.068225,
     "end_time": "2023-04-21T05:41:50.440608",
     "exception": false,
     "start_time": "2023-04-21T05:41:50.372383",
     "status": "completed"
    },
    "tags": []
   },
   "outputs": [
    {
     "data": {
      "text/html": [
       "<div>\n",
       "<style scoped>\n",
       "    .dataframe tbody tr th:only-of-type {\n",
       "        vertical-align: middle;\n",
       "    }\n",
       "\n",
       "    .dataframe tbody tr th {\n",
       "        vertical-align: top;\n",
       "    }\n",
       "\n",
       "    .dataframe thead th {\n",
       "        text-align: right;\n",
       "    }\n",
       "</style>\n",
       "<table border=\"1\" class=\"dataframe\">\n",
       "  <thead>\n",
       "    <tr style=\"text-align: right;\">\n",
       "      <th></th>\n",
       "      <th>salary</th>\n",
       "      <th>salary_currency_USD</th>\n",
       "      <th>salary_in_usd</th>\n",
       "      <th>employee_residence_US</th>\n",
       "      <th>remote_ratio</th>\n",
       "      <th>company_location_US</th>\n",
       "      <th>experience_level_EX</th>\n",
       "      <th>experience_level_MI</th>\n",
       "      <th>experience_level_SE</th>\n",
       "      <th>employment_type_FL</th>\n",
       "      <th>...</th>\n",
       "      <th>employment_type_PT</th>\n",
       "      <th>company_size_M</th>\n",
       "      <th>company_size_S</th>\n",
       "      <th>work_year__2021</th>\n",
       "      <th>work_year__2022</th>\n",
       "      <th>work_year__2023</th>\n",
       "      <th>company_size_Data Engineer</th>\n",
       "      <th>company_size_Data Scientist</th>\n",
       "      <th>company_size_Machine Learning Engineer</th>\n",
       "      <th>company_size_Other</th>\n",
       "    </tr>\n",
       "  </thead>\n",
       "  <tbody>\n",
       "    <tr>\n",
       "      <th>0</th>\n",
       "      <td>80000</td>\n",
       "      <td>0</td>\n",
       "      <td>85847</td>\n",
       "      <td>0</td>\n",
       "      <td>100</td>\n",
       "      <td>0</td>\n",
       "      <td>0</td>\n",
       "      <td>0</td>\n",
       "      <td>1</td>\n",
       "      <td>0</td>\n",
       "      <td>...</td>\n",
       "      <td>0</td>\n",
       "      <td>0</td>\n",
       "      <td>0</td>\n",
       "      <td>0</td>\n",
       "      <td>0</td>\n",
       "      <td>1</td>\n",
       "      <td>0</td>\n",
       "      <td>0</td>\n",
       "      <td>0</td>\n",
       "      <td>1</td>\n",
       "    </tr>\n",
       "    <tr>\n",
       "      <th>1</th>\n",
       "      <td>30000</td>\n",
       "      <td>1</td>\n",
       "      <td>30000</td>\n",
       "      <td>1</td>\n",
       "      <td>100</td>\n",
       "      <td>1</td>\n",
       "      <td>0</td>\n",
       "      <td>1</td>\n",
       "      <td>0</td>\n",
       "      <td>0</td>\n",
       "      <td>...</td>\n",
       "      <td>0</td>\n",
       "      <td>0</td>\n",
       "      <td>1</td>\n",
       "      <td>0</td>\n",
       "      <td>0</td>\n",
       "      <td>1</td>\n",
       "      <td>0</td>\n",
       "      <td>0</td>\n",
       "      <td>0</td>\n",
       "      <td>1</td>\n",
       "    </tr>\n",
       "    <tr>\n",
       "      <th>2</th>\n",
       "      <td>25500</td>\n",
       "      <td>1</td>\n",
       "      <td>25500</td>\n",
       "      <td>1</td>\n",
       "      <td>100</td>\n",
       "      <td>1</td>\n",
       "      <td>0</td>\n",
       "      <td>1</td>\n",
       "      <td>0</td>\n",
       "      <td>0</td>\n",
       "      <td>...</td>\n",
       "      <td>0</td>\n",
       "      <td>0</td>\n",
       "      <td>1</td>\n",
       "      <td>0</td>\n",
       "      <td>0</td>\n",
       "      <td>1</td>\n",
       "      <td>0</td>\n",
       "      <td>0</td>\n",
       "      <td>0</td>\n",
       "      <td>1</td>\n",
       "    </tr>\n",
       "    <tr>\n",
       "      <th>3</th>\n",
       "      <td>175000</td>\n",
       "      <td>1</td>\n",
       "      <td>175000</td>\n",
       "      <td>0</td>\n",
       "      <td>100</td>\n",
       "      <td>0</td>\n",
       "      <td>0</td>\n",
       "      <td>0</td>\n",
       "      <td>1</td>\n",
       "      <td>0</td>\n",
       "      <td>...</td>\n",
       "      <td>0</td>\n",
       "      <td>1</td>\n",
       "      <td>0</td>\n",
       "      <td>0</td>\n",
       "      <td>0</td>\n",
       "      <td>1</td>\n",
       "      <td>0</td>\n",
       "      <td>1</td>\n",
       "      <td>0</td>\n",
       "      <td>0</td>\n",
       "    </tr>\n",
       "    <tr>\n",
       "      <th>4</th>\n",
       "      <td>120000</td>\n",
       "      <td>1</td>\n",
       "      <td>120000</td>\n",
       "      <td>0</td>\n",
       "      <td>100</td>\n",
       "      <td>0</td>\n",
       "      <td>0</td>\n",
       "      <td>0</td>\n",
       "      <td>1</td>\n",
       "      <td>0</td>\n",
       "      <td>...</td>\n",
       "      <td>0</td>\n",
       "      <td>1</td>\n",
       "      <td>0</td>\n",
       "      <td>0</td>\n",
       "      <td>0</td>\n",
       "      <td>1</td>\n",
       "      <td>0</td>\n",
       "      <td>1</td>\n",
       "      <td>0</td>\n",
       "      <td>0</td>\n",
       "    </tr>\n",
       "  </tbody>\n",
       "</table>\n",
       "<p>5 rows × 21 columns</p>\n",
       "</div>"
      ],
      "text/plain": [
       "   salary  salary_currency_USD  salary_in_usd  employee_residence_US  \\\n",
       "0   80000                    0          85847                      0   \n",
       "1   30000                    1          30000                      1   \n",
       "2   25500                    1          25500                      1   \n",
       "3  175000                    1         175000                      0   \n",
       "4  120000                    1         120000                      0   \n",
       "\n",
       "   remote_ratio  company_location_US  experience_level_EX  \\\n",
       "0           100                    0                    0   \n",
       "1           100                    1                    0   \n",
       "2           100                    1                    0   \n",
       "3           100                    0                    0   \n",
       "4           100                    0                    0   \n",
       "\n",
       "   experience_level_MI  experience_level_SE  employment_type_FL  ...  \\\n",
       "0                    0                    1                   0  ...   \n",
       "1                    1                    0                   0  ...   \n",
       "2                    1                    0                   0  ...   \n",
       "3                    0                    1                   0  ...   \n",
       "4                    0                    1                   0  ...   \n",
       "\n",
       "   employment_type_PT  company_size_M  company_size_S  work_year__2021  \\\n",
       "0                   0               0               0                0   \n",
       "1                   0               0               1                0   \n",
       "2                   0               0               1                0   \n",
       "3                   0               1               0                0   \n",
       "4                   0               1               0                0   \n",
       "\n",
       "   work_year__2022  work_year__2023  company_size_Data Engineer  \\\n",
       "0                0                1                           0   \n",
       "1                0                1                           0   \n",
       "2                0                1                           0   \n",
       "3                0                1                           0   \n",
       "4                0                1                           0   \n",
       "\n",
       "   company_size_Data Scientist  company_size_Machine Learning Engineer  \\\n",
       "0                            0                                       0   \n",
       "1                            0                                       0   \n",
       "2                            0                                       0   \n",
       "3                            1                                       0   \n",
       "4                            1                                       0   \n",
       "\n",
       "   company_size_Other  \n",
       "0                   1  \n",
       "1                   1  \n",
       "2                   1  \n",
       "3                   0  \n",
       "4                   0  \n",
       "\n",
       "[5 rows x 21 columns]"
      ]
     },
     "execution_count": 64,
     "metadata": {},
     "output_type": "execute_result"
    }
   ],
   "source": [
    "data.head()"
   ]
  },
  {
   "cell_type": "code",
   "execution_count": 65,
   "id": "09b724ab",
   "metadata": {
    "execution": {
     "iopub.execute_input": "2023-04-21T05:41:50.531994Z",
     "iopub.status.busy": "2023-04-21T05:41:50.531588Z",
     "iopub.status.idle": "2023-04-21T05:41:50.546623Z",
     "shell.execute_reply": "2023-04-21T05:41:50.545227Z"
    },
    "papermill": {
     "duration": 0.064143,
     "end_time": "2023-04-21T05:41:50.549441",
     "exception": false,
     "start_time": "2023-04-21T05:41:50.485298",
     "status": "completed"
    },
    "tags": []
   },
   "outputs": [
    {
     "name": "stdout",
     "output_type": "stream",
     "text": [
      "<class 'pandas.core.frame.DataFrame'>\n",
      "Int64Index: 2584 entries, 0 to 3754\n",
      "Data columns (total 21 columns):\n",
      " #   Column                                  Non-Null Count  Dtype\n",
      "---  ------                                  --------------  -----\n",
      " 0   salary                                  2584 non-null   int64\n",
      " 1   salary_currency_USD                     2584 non-null   int32\n",
      " 2   salary_in_usd                           2584 non-null   int64\n",
      " 3   employee_residence_US                   2584 non-null   int32\n",
      " 4   remote_ratio                            2584 non-null   int64\n",
      " 5   company_location_US                     2584 non-null   int32\n",
      " 6   experience_level_EX                     2584 non-null   uint8\n",
      " 7   experience_level_MI                     2584 non-null   uint8\n",
      " 8   experience_level_SE                     2584 non-null   uint8\n",
      " 9   employment_type_FL                      2584 non-null   uint8\n",
      " 10  employment_type_FT                      2584 non-null   uint8\n",
      " 11  employment_type_PT                      2584 non-null   uint8\n",
      " 12  company_size_M                          2584 non-null   uint8\n",
      " 13  company_size_S                          2584 non-null   uint8\n",
      " 14  work_year__2021                         2584 non-null   uint8\n",
      " 15  work_year__2022                         2584 non-null   uint8\n",
      " 16  work_year__2023                         2584 non-null   uint8\n",
      " 17  company_size_Data Engineer              2584 non-null   uint8\n",
      " 18  company_size_Data Scientist             2584 non-null   uint8\n",
      " 19  company_size_Machine Learning Engineer  2584 non-null   uint8\n",
      " 20  company_size_Other                      2584 non-null   uint8\n",
      "dtypes: int32(3), int64(3), uint8(15)\n",
      "memory usage: 213.4 KB\n"
     ]
    }
   ],
   "source": [
    "data.info()"
   ]
  },
  {
   "cell_type": "code",
   "execution_count": 66,
   "id": "5770e67c",
   "metadata": {
    "execution": {
     "iopub.execute_input": "2023-04-21T05:41:50.641434Z",
     "iopub.status.busy": "2023-04-21T05:41:50.641032Z",
     "iopub.status.idle": "2023-04-21T05:41:50.715709Z",
     "shell.execute_reply": "2023-04-21T05:41:50.714404Z"
    },
    "papermill": {
     "duration": 0.124139,
     "end_time": "2023-04-21T05:41:50.718422",
     "exception": false,
     "start_time": "2023-04-21T05:41:50.594283",
     "status": "completed"
    },
    "tags": []
   },
   "outputs": [
    {
     "data": {
      "text/html": [
       "<div>\n",
       "<style scoped>\n",
       "    .dataframe tbody tr th:only-of-type {\n",
       "        vertical-align: middle;\n",
       "    }\n",
       "\n",
       "    .dataframe tbody tr th {\n",
       "        vertical-align: top;\n",
       "    }\n",
       "\n",
       "    .dataframe thead th {\n",
       "        text-align: right;\n",
       "    }\n",
       "</style>\n",
       "<table border=\"1\" class=\"dataframe\">\n",
       "  <thead>\n",
       "    <tr style=\"text-align: right;\">\n",
       "      <th></th>\n",
       "      <th>count</th>\n",
       "      <th>mean</th>\n",
       "      <th>std</th>\n",
       "      <th>min</th>\n",
       "      <th>25%</th>\n",
       "      <th>50%</th>\n",
       "      <th>75%</th>\n",
       "      <th>max</th>\n",
       "    </tr>\n",
       "  </thead>\n",
       "  <tbody>\n",
       "    <tr>\n",
       "      <th>salary</th>\n",
       "      <td>2584.0</td>\n",
       "      <td>210365.296440</td>\n",
       "      <td>808037.535609</td>\n",
       "      <td>6000.0</td>\n",
       "      <td>90000.0</td>\n",
       "      <td>134630.0</td>\n",
       "      <td>182562.5</td>\n",
       "      <td>30400000.0</td>\n",
       "    </tr>\n",
       "    <tr>\n",
       "      <th>salary_currency_USD</th>\n",
       "      <td>2584.0</td>\n",
       "      <td>0.815402</td>\n",
       "      <td>0.388046</td>\n",
       "      <td>0.0</td>\n",
       "      <td>1.0</td>\n",
       "      <td>1.0</td>\n",
       "      <td>1.0</td>\n",
       "      <td>1.0</td>\n",
       "    </tr>\n",
       "    <tr>\n",
       "      <th>salary_in_usd</th>\n",
       "      <td>2584.0</td>\n",
       "      <td>133409.280186</td>\n",
       "      <td>67136.837329</td>\n",
       "      <td>5132.0</td>\n",
       "      <td>84975.0</td>\n",
       "      <td>130000.0</td>\n",
       "      <td>175000.0</td>\n",
       "      <td>450000.0</td>\n",
       "    </tr>\n",
       "    <tr>\n",
       "      <th>employee_residence_US</th>\n",
       "      <td>2584.0</td>\n",
       "      <td>0.732585</td>\n",
       "      <td>0.442696</td>\n",
       "      <td>0.0</td>\n",
       "      <td>0.0</td>\n",
       "      <td>1.0</td>\n",
       "      <td>1.0</td>\n",
       "      <td>1.0</td>\n",
       "    </tr>\n",
       "    <tr>\n",
       "      <th>remote_ratio</th>\n",
       "      <td>2584.0</td>\n",
       "      <td>50.483746</td>\n",
       "      <td>48.163707</td>\n",
       "      <td>0.0</td>\n",
       "      <td>0.0</td>\n",
       "      <td>50.0</td>\n",
       "      <td>100.0</td>\n",
       "      <td>100.0</td>\n",
       "    </tr>\n",
       "    <tr>\n",
       "      <th>company_location_US</th>\n",
       "      <td>2584.0</td>\n",
       "      <td>0.746517</td>\n",
       "      <td>0.435089</td>\n",
       "      <td>0.0</td>\n",
       "      <td>0.0</td>\n",
       "      <td>1.0</td>\n",
       "      <td>1.0</td>\n",
       "      <td>1.0</td>\n",
       "    </tr>\n",
       "    <tr>\n",
       "      <th>experience_level_EX</th>\n",
       "      <td>2584.0</td>\n",
       "      <td>0.037152</td>\n",
       "      <td>0.189170</td>\n",
       "      <td>0.0</td>\n",
       "      <td>0.0</td>\n",
       "      <td>0.0</td>\n",
       "      <td>0.0</td>\n",
       "      <td>1.0</td>\n",
       "    </tr>\n",
       "    <tr>\n",
       "      <th>experience_level_MI</th>\n",
       "      <td>2584.0</td>\n",
       "      <td>0.256966</td>\n",
       "      <td>0.437045</td>\n",
       "      <td>0.0</td>\n",
       "      <td>0.0</td>\n",
       "      <td>0.0</td>\n",
       "      <td>1.0</td>\n",
       "      <td>1.0</td>\n",
       "    </tr>\n",
       "    <tr>\n",
       "      <th>experience_level_SE</th>\n",
       "      <td>2584.0</td>\n",
       "      <td>0.601393</td>\n",
       "      <td>0.489706</td>\n",
       "      <td>0.0</td>\n",
       "      <td>0.0</td>\n",
       "      <td>1.0</td>\n",
       "      <td>1.0</td>\n",
       "      <td>1.0</td>\n",
       "    </tr>\n",
       "    <tr>\n",
       "      <th>employment_type_FL</th>\n",
       "      <td>2584.0</td>\n",
       "      <td>0.003870</td>\n",
       "      <td>0.062101</td>\n",
       "      <td>0.0</td>\n",
       "      <td>0.0</td>\n",
       "      <td>0.0</td>\n",
       "      <td>0.0</td>\n",
       "      <td>1.0</td>\n",
       "    </tr>\n",
       "    <tr>\n",
       "      <th>employment_type_FT</th>\n",
       "      <td>2584.0</td>\n",
       "      <td>0.985681</td>\n",
       "      <td>0.118825</td>\n",
       "      <td>0.0</td>\n",
       "      <td>1.0</td>\n",
       "      <td>1.0</td>\n",
       "      <td>1.0</td>\n",
       "      <td>1.0</td>\n",
       "    </tr>\n",
       "    <tr>\n",
       "      <th>employment_type_PT</th>\n",
       "      <td>2584.0</td>\n",
       "      <td>0.006579</td>\n",
       "      <td>0.080859</td>\n",
       "      <td>0.0</td>\n",
       "      <td>0.0</td>\n",
       "      <td>0.0</td>\n",
       "      <td>0.0</td>\n",
       "      <td>1.0</td>\n",
       "    </tr>\n",
       "    <tr>\n",
       "      <th>company_size_M</th>\n",
       "      <td>2584.0</td>\n",
       "      <td>0.784830</td>\n",
       "      <td>0.411020</td>\n",
       "      <td>0.0</td>\n",
       "      <td>1.0</td>\n",
       "      <td>1.0</td>\n",
       "      <td>1.0</td>\n",
       "      <td>1.0</td>\n",
       "    </tr>\n",
       "    <tr>\n",
       "      <th>company_size_S</th>\n",
       "      <td>2584.0</td>\n",
       "      <td>0.056889</td>\n",
       "      <td>0.231674</td>\n",
       "      <td>0.0</td>\n",
       "      <td>0.0</td>\n",
       "      <td>0.0</td>\n",
       "      <td>0.0</td>\n",
       "      <td>1.0</td>\n",
       "    </tr>\n",
       "    <tr>\n",
       "      <th>work_year__2021</th>\n",
       "      <td>2584.0</td>\n",
       "      <td>0.088235</td>\n",
       "      <td>0.283692</td>\n",
       "      <td>0.0</td>\n",
       "      <td>0.0</td>\n",
       "      <td>0.0</td>\n",
       "      <td>0.0</td>\n",
       "      <td>1.0</td>\n",
       "    </tr>\n",
       "    <tr>\n",
       "      <th>work_year__2022</th>\n",
       "      <td>2584.0</td>\n",
       "      <td>0.435372</td>\n",
       "      <td>0.495902</td>\n",
       "      <td>0.0</td>\n",
       "      <td>0.0</td>\n",
       "      <td>0.0</td>\n",
       "      <td>1.0</td>\n",
       "      <td>1.0</td>\n",
       "    </tr>\n",
       "    <tr>\n",
       "      <th>work_year__2023</th>\n",
       "      <td>2584.0</td>\n",
       "      <td>0.447368</td>\n",
       "      <td>0.497318</td>\n",
       "      <td>0.0</td>\n",
       "      <td>0.0</td>\n",
       "      <td>0.0</td>\n",
       "      <td>1.0</td>\n",
       "      <td>1.0</td>\n",
       "    </tr>\n",
       "    <tr>\n",
       "      <th>company_size_Data Engineer</th>\n",
       "      <td>2584.0</td>\n",
       "      <td>0.231424</td>\n",
       "      <td>0.421824</td>\n",
       "      <td>0.0</td>\n",
       "      <td>0.0</td>\n",
       "      <td>0.0</td>\n",
       "      <td>0.0</td>\n",
       "      <td>1.0</td>\n",
       "    </tr>\n",
       "    <tr>\n",
       "      <th>company_size_Data Scientist</th>\n",
       "      <td>2584.0</td>\n",
       "      <td>0.208204</td>\n",
       "      <td>0.406102</td>\n",
       "      <td>0.0</td>\n",
       "      <td>0.0</td>\n",
       "      <td>0.0</td>\n",
       "      <td>0.0</td>\n",
       "      <td>1.0</td>\n",
       "    </tr>\n",
       "    <tr>\n",
       "      <th>company_size_Machine Learning Engineer</th>\n",
       "      <td>2584.0</td>\n",
       "      <td>0.079721</td>\n",
       "      <td>0.270914</td>\n",
       "      <td>0.0</td>\n",
       "      <td>0.0</td>\n",
       "      <td>0.0</td>\n",
       "      <td>0.0</td>\n",
       "      <td>1.0</td>\n",
       "    </tr>\n",
       "    <tr>\n",
       "      <th>company_size_Other</th>\n",
       "      <td>2584.0</td>\n",
       "      <td>0.327399</td>\n",
       "      <td>0.469355</td>\n",
       "      <td>0.0</td>\n",
       "      <td>0.0</td>\n",
       "      <td>0.0</td>\n",
       "      <td>1.0</td>\n",
       "      <td>1.0</td>\n",
       "    </tr>\n",
       "  </tbody>\n",
       "</table>\n",
       "</div>"
      ],
      "text/plain": [
       "                                         count           mean            std  \\\n",
       "salary                                  2584.0  210365.296440  808037.535609   \n",
       "salary_currency_USD                     2584.0       0.815402       0.388046   \n",
       "salary_in_usd                           2584.0  133409.280186   67136.837329   \n",
       "employee_residence_US                   2584.0       0.732585       0.442696   \n",
       "remote_ratio                            2584.0      50.483746      48.163707   \n",
       "company_location_US                     2584.0       0.746517       0.435089   \n",
       "experience_level_EX                     2584.0       0.037152       0.189170   \n",
       "experience_level_MI                     2584.0       0.256966       0.437045   \n",
       "experience_level_SE                     2584.0       0.601393       0.489706   \n",
       "employment_type_FL                      2584.0       0.003870       0.062101   \n",
       "employment_type_FT                      2584.0       0.985681       0.118825   \n",
       "employment_type_PT                      2584.0       0.006579       0.080859   \n",
       "company_size_M                          2584.0       0.784830       0.411020   \n",
       "company_size_S                          2584.0       0.056889       0.231674   \n",
       "work_year__2021                         2584.0       0.088235       0.283692   \n",
       "work_year__2022                         2584.0       0.435372       0.495902   \n",
       "work_year__2023                         2584.0       0.447368       0.497318   \n",
       "company_size_Data Engineer              2584.0       0.231424       0.421824   \n",
       "company_size_Data Scientist             2584.0       0.208204       0.406102   \n",
       "company_size_Machine Learning Engineer  2584.0       0.079721       0.270914   \n",
       "company_size_Other                      2584.0       0.327399       0.469355   \n",
       "\n",
       "                                           min      25%       50%       75%  \\\n",
       "salary                                  6000.0  90000.0  134630.0  182562.5   \n",
       "salary_currency_USD                        0.0      1.0       1.0       1.0   \n",
       "salary_in_usd                           5132.0  84975.0  130000.0  175000.0   \n",
       "employee_residence_US                      0.0      0.0       1.0       1.0   \n",
       "remote_ratio                               0.0      0.0      50.0     100.0   \n",
       "company_location_US                        0.0      0.0       1.0       1.0   \n",
       "experience_level_EX                        0.0      0.0       0.0       0.0   \n",
       "experience_level_MI                        0.0      0.0       0.0       1.0   \n",
       "experience_level_SE                        0.0      0.0       1.0       1.0   \n",
       "employment_type_FL                         0.0      0.0       0.0       0.0   \n",
       "employment_type_FT                         0.0      1.0       1.0       1.0   \n",
       "employment_type_PT                         0.0      0.0       0.0       0.0   \n",
       "company_size_M                             0.0      1.0       1.0       1.0   \n",
       "company_size_S                             0.0      0.0       0.0       0.0   \n",
       "work_year__2021                            0.0      0.0       0.0       0.0   \n",
       "work_year__2022                            0.0      0.0       0.0       1.0   \n",
       "work_year__2023                            0.0      0.0       0.0       1.0   \n",
       "company_size_Data Engineer                 0.0      0.0       0.0       0.0   \n",
       "company_size_Data Scientist                0.0      0.0       0.0       0.0   \n",
       "company_size_Machine Learning Engineer     0.0      0.0       0.0       0.0   \n",
       "company_size_Other                         0.0      0.0       0.0       1.0   \n",
       "\n",
       "                                               max  \n",
       "salary                                  30400000.0  \n",
       "salary_currency_USD                            1.0  \n",
       "salary_in_usd                             450000.0  \n",
       "employee_residence_US                          1.0  \n",
       "remote_ratio                                 100.0  \n",
       "company_location_US                            1.0  \n",
       "experience_level_EX                            1.0  \n",
       "experience_level_MI                            1.0  \n",
       "experience_level_SE                            1.0  \n",
       "employment_type_FL                             1.0  \n",
       "employment_type_FT                             1.0  \n",
       "employment_type_PT                             1.0  \n",
       "company_size_M                                 1.0  \n",
       "company_size_S                                 1.0  \n",
       "work_year__2021                                1.0  \n",
       "work_year__2022                                1.0  \n",
       "work_year__2023                                1.0  \n",
       "company_size_Data Engineer                     1.0  \n",
       "company_size_Data Scientist                    1.0  \n",
       "company_size_Machine Learning Engineer         1.0  \n",
       "company_size_Other                             1.0  "
      ]
     },
     "execution_count": 66,
     "metadata": {},
     "output_type": "execute_result"
    }
   ],
   "source": [
    "data.describe().transpose()"
   ]
  },
  {
   "cell_type": "code",
   "execution_count": 67,
   "id": "9ea53495",
   "metadata": {
    "execution": {
     "iopub.execute_input": "2023-04-21T05:41:50.811339Z",
     "iopub.status.busy": "2023-04-21T05:41:50.810135Z",
     "iopub.status.idle": "2023-04-21T05:41:50.816668Z",
     "shell.execute_reply": "2023-04-21T05:41:50.815747Z"
    },
    "papermill": {
     "duration": 0.055287,
     "end_time": "2023-04-21T05:41:50.818899",
     "exception": false,
     "start_time": "2023-04-21T05:41:50.763612",
     "status": "completed"
    },
    "tags": []
   },
   "outputs": [
    {
     "data": {
      "text/plain": [
       "(2584, 21)"
      ]
     },
     "execution_count": 67,
     "metadata": {},
     "output_type": "execute_result"
    }
   ],
   "source": [
    "data.shape"
   ]
  },
  {
   "cell_type": "code",
   "execution_count": 68,
   "id": "6bf3cd02",
   "metadata": {
    "execution": {
     "iopub.execute_input": "2023-04-21T05:41:50.911838Z",
     "iopub.status.busy": "2023-04-21T05:41:50.910634Z",
     "iopub.status.idle": "2023-04-21T05:41:50.922995Z",
     "shell.execute_reply": "2023-04-21T05:41:50.921660Z"
    },
    "papermill": {
     "duration": 0.061355,
     "end_time": "2023-04-21T05:41:50.925587",
     "exception": false,
     "start_time": "2023-04-21T05:41:50.864232",
     "status": "completed"
    },
    "tags": []
   },
   "outputs": [
    {
     "data": {
      "text/plain": [
       "salary                                     815\n",
       "salary_currency_USD                          2\n",
       "salary_in_usd                             1035\n",
       "employee_residence_US                        2\n",
       "remote_ratio                                 3\n",
       "company_location_US                          2\n",
       "experience_level_EX                          2\n",
       "experience_level_MI                          2\n",
       "experience_level_SE                          2\n",
       "employment_type_FL                           2\n",
       "employment_type_FT                           2\n",
       "employment_type_PT                           2\n",
       "company_size_M                               2\n",
       "company_size_S                               2\n",
       "work_year__2021                              2\n",
       "work_year__2022                              2\n",
       "work_year__2023                              2\n",
       "company_size_Data Engineer                   2\n",
       "company_size_Data Scientist                  2\n",
       "company_size_Machine Learning Engineer       2\n",
       "company_size_Other                           2\n",
       "dtype: int64"
      ]
     },
     "execution_count": 68,
     "metadata": {},
     "output_type": "execute_result"
    }
   ],
   "source": [
    "data.nunique()"
   ]
  },
  {
   "cell_type": "markdown",
   "id": "d2fb7fd1",
   "metadata": {
    "papermill": {
     "duration": 0.045014,
     "end_time": "2023-04-21T05:41:51.016006",
     "exception": false,
     "start_time": "2023-04-21T05:41:50.970992",
     "status": "completed"
    },
    "tags": []
   },
   "source": [
    "# Dropping Salary Variable \n",
    "- we dont need it becuase we have salary which is standardized in US currency"
   ]
  },
  {
   "cell_type": "code",
   "execution_count": 69,
   "id": "3eaee6f4",
   "metadata": {
    "execution": {
     "iopub.execute_input": "2023-04-21T05:41:51.116728Z",
     "iopub.status.busy": "2023-04-21T05:41:51.116109Z",
     "iopub.status.idle": "2023-04-21T05:41:51.124984Z",
     "shell.execute_reply": "2023-04-21T05:41:51.123923Z"
    },
    "papermill": {
     "duration": 0.065492,
     "end_time": "2023-04-21T05:41:51.127515",
     "exception": false,
     "start_time": "2023-04-21T05:41:51.062023",
     "status": "completed"
    },
    "tags": []
   },
   "outputs": [],
   "source": [
    "data.drop(columns=['salary'],inplace=True, axis=1)"
   ]
  },
  {
   "cell_type": "markdown",
   "id": "d44211f5",
   "metadata": {
    "papermill": {
     "duration": 0.04499,
     "end_time": "2023-04-21T05:41:51.230251",
     "exception": false,
     "start_time": "2023-04-21T05:41:51.185261",
     "status": "completed"
    },
    "tags": []
   },
   "source": [
    "# 3. Modelling"
   ]
  },
  {
   "cell_type": "markdown",
   "id": "c2311f5c",
   "metadata": {
    "papermill": {
     "duration": 0.045517,
     "end_time": "2023-04-21T05:41:51.321705",
     "exception": false,
     "start_time": "2023-04-21T05:41:51.276188",
     "status": "completed"
    },
    "tags": []
   },
   "source": [
    "### First cut model"
   ]
  },
  {
   "cell_type": "markdown",
   "id": "15f35ecf",
   "metadata": {
    "papermill": {
     "duration": 0.045841,
     "end_time": "2023-04-21T05:41:51.414584",
     "exception": false,
     "start_time": "2023-04-21T05:41:51.368743",
     "status": "completed"
    },
    "tags": []
   },
   "source": [
    "# Creating X, y Data set"
   ]
  },
  {
   "cell_type": "code",
   "execution_count": 70,
   "id": "76d54831",
   "metadata": {
    "execution": {
     "iopub.execute_input": "2023-04-21T05:41:51.508671Z",
     "iopub.status.busy": "2023-04-21T05:41:51.507334Z",
     "iopub.status.idle": "2023-04-21T05:41:51.515722Z",
     "shell.execute_reply": "2023-04-21T05:41:51.514660Z"
    },
    "papermill": {
     "duration": 0.05819,
     "end_time": "2023-04-21T05:41:51.518512",
     "exception": false,
     "start_time": "2023-04-21T05:41:51.460322",
     "status": "completed"
    },
    "tags": []
   },
   "outputs": [
    {
     "data": {
      "text/plain": [
       "Index(['salary_currency_USD', 'salary_in_usd', 'employee_residence_US',\n",
       "       'remote_ratio', 'company_location_US', 'experience_level_EX',\n",
       "       'experience_level_MI', 'experience_level_SE', 'employment_type_FL',\n",
       "       'employment_type_FT', 'employment_type_PT', 'company_size_M',\n",
       "       'company_size_S', 'work_year__2021', 'work_year__2022',\n",
       "       'work_year__2023', 'company_size_Data Engineer',\n",
       "       'company_size_Data Scientist', 'company_size_Machine Learning Engineer',\n",
       "       'company_size_Other'],\n",
       "      dtype='object')"
      ]
     },
     "execution_count": 70,
     "metadata": {},
     "output_type": "execute_result"
    }
   ],
   "source": [
    "data.columns"
   ]
  },
  {
   "cell_type": "code",
   "execution_count": 71,
   "id": "382bf1ea",
   "metadata": {
    "execution": {
     "iopub.execute_input": "2023-04-21T05:41:51.612223Z",
     "iopub.status.busy": "2023-04-21T05:41:51.611058Z",
     "iopub.status.idle": "2023-04-21T05:41:51.619596Z",
     "shell.execute_reply": "2023-04-21T05:41:51.618366Z"
    },
    "papermill": {
     "duration": 0.058191,
     "end_time": "2023-04-21T05:41:51.622353",
     "exception": false,
     "start_time": "2023-04-21T05:41:51.564162",
     "status": "completed"
    },
    "tags": []
   },
   "outputs": [],
   "source": [
    "X=data[['salary_currency_USD', 'employee_residence_US',\n",
    "       'remote_ratio', 'company_location_US', 'experience_level_EX',\n",
    "       'experience_level_MI', 'experience_level_SE', 'employment_type_FL',\n",
    "       'employment_type_FT', 'employment_type_PT', 'company_size_M',\n",
    "       'company_size_S', 'company_size_Data Engineer',\n",
    "       'company_size_Data Scientist', 'company_size_Machine Learning Engineer',\n",
    "       'company_size_Other', 'work_year__2021', 'work_year__2022',\n",
    "       'work_year__2023']]\n",
    "y=data['salary_in_usd']"
   ]
  },
  {
   "cell_type": "markdown",
   "id": "cb2b0970",
   "metadata": {
    "papermill": {
     "duration": 0.045549,
     "end_time": "2023-04-21T05:41:51.713955",
     "exception": false,
     "start_time": "2023-04-21T05:41:51.668406",
     "status": "completed"
    },
    "tags": []
   },
   "source": [
    "# Splitting into train_test_split"
   ]
  },
  {
   "cell_type": "code",
   "execution_count": 72,
   "id": "0786e664",
   "metadata": {
    "execution": {
     "iopub.execute_input": "2023-04-21T05:41:51.810516Z",
     "iopub.status.busy": "2023-04-21T05:41:51.810072Z",
     "iopub.status.idle": "2023-04-21T05:41:52.043609Z",
     "shell.execute_reply": "2023-04-21T05:41:52.042230Z"
    },
    "papermill": {
     "duration": 0.285361,
     "end_time": "2023-04-21T05:41:52.046506",
     "exception": false,
     "start_time": "2023-04-21T05:41:51.761145",
     "status": "completed"
    },
    "tags": []
   },
   "outputs": [],
   "source": [
    "from sklearn.model_selection import train_test_split\n",
    "X_train,X_test,y_train,y_test = train_test_split(X,y,train_size=0.7,random_state=42)"
   ]
  },
  {
   "cell_type": "code",
   "execution_count": 73,
   "id": "ccaeb4ea",
   "metadata": {
    "execution": {
     "iopub.execute_input": "2023-04-21T05:41:52.143393Z",
     "iopub.status.busy": "2023-04-21T05:41:52.142501Z",
     "iopub.status.idle": "2023-04-21T05:41:52.150243Z",
     "shell.execute_reply": "2023-04-21T05:41:52.148746Z"
    },
    "papermill": {
     "duration": 0.059293,
     "end_time": "2023-04-21T05:41:52.152848",
     "exception": false,
     "start_time": "2023-04-21T05:41:52.093555",
     "status": "completed"
    },
    "tags": []
   },
   "outputs": [
    {
     "name": "stdout",
     "output_type": "stream",
     "text": [
      "X_train.shape :  (1808, 19) \n",
      "X_test.shape  :  (776, 19) \n",
      "y_train.shape :  (1808,) \n",
      "y_test.shape  :  (776,)\n"
     ]
    }
   ],
   "source": [
    "print('X_train.shape : ',X_train.shape,'\\nX_test.shape  : ',X_test.shape,'\\ny_train.shape : ',y_train.shape,'\\ny_test.shape  : ',y_test.shape )"
   ]
  },
  {
   "cell_type": "markdown",
   "id": "25a796af",
   "metadata": {
    "papermill": {
     "duration": 0.047254,
     "end_time": "2023-04-21T05:41:52.245754",
     "exception": false,
     "start_time": "2023-04-21T05:41:52.198500",
     "status": "completed"
    },
    "tags": []
   },
   "source": [
    "# Linear Regeression"
   ]
  },
  {
   "cell_type": "code",
   "execution_count": 74,
   "id": "f61ebd4a",
   "metadata": {
    "execution": {
     "iopub.execute_input": "2023-04-21T05:41:52.343881Z",
     "iopub.status.busy": "2023-04-21T05:41:52.343002Z",
     "iopub.status.idle": "2023-04-21T05:41:52.432807Z",
     "shell.execute_reply": "2023-04-21T05:41:52.431699Z"
    },
    "papermill": {
     "duration": 0.142993,
     "end_time": "2023-04-21T05:41:52.435735",
     "exception": false,
     "start_time": "2023-04-21T05:41:52.292742",
     "status": "completed"
    },
    "tags": []
   },
   "outputs": [],
   "source": [
    "from sklearn.linear_model import LinearRegression"
   ]
  },
  {
   "cell_type": "code",
   "execution_count": 75,
   "id": "0670fbce",
   "metadata": {
    "execution": {
     "iopub.execute_input": "2023-04-21T05:41:52.530068Z",
     "iopub.status.busy": "2023-04-21T05:41:52.529662Z",
     "iopub.status.idle": "2023-04-21T05:41:52.534244Z",
     "shell.execute_reply": "2023-04-21T05:41:52.533076Z"
    },
    "papermill": {
     "duration": 0.055212,
     "end_time": "2023-04-21T05:41:52.537123",
     "exception": false,
     "start_time": "2023-04-21T05:41:52.481911",
     "status": "completed"
    },
    "tags": []
   },
   "outputs": [],
   "source": [
    "LR = LinearRegression()"
   ]
  },
  {
   "cell_type": "code",
   "execution_count": 76,
   "id": "cfc7c334",
   "metadata": {
    "execution": {
     "iopub.execute_input": "2023-04-21T05:41:52.632544Z",
     "iopub.status.busy": "2023-04-21T05:41:52.632142Z",
     "iopub.status.idle": "2023-04-21T05:41:52.667520Z",
     "shell.execute_reply": "2023-04-21T05:41:52.665786Z"
    },
    "papermill": {
     "duration": 0.089208,
     "end_time": "2023-04-21T05:41:52.672299",
     "exception": false,
     "start_time": "2023-04-21T05:41:52.583091",
     "status": "completed"
    },
    "tags": []
   },
   "outputs": [
    {
     "data": {
      "text/plain": [
       "LinearRegression()"
      ]
     },
     "execution_count": 76,
     "metadata": {},
     "output_type": "execute_result"
    }
   ],
   "source": [
    "LR.fit(X_train,y_train)"
   ]
  },
  {
   "cell_type": "code",
   "execution_count": 77,
   "id": "5bf595fa",
   "metadata": {
    "execution": {
     "iopub.execute_input": "2023-04-21T05:41:52.830372Z",
     "iopub.status.busy": "2023-04-21T05:41:52.829935Z",
     "iopub.status.idle": "2023-04-21T05:41:52.848450Z",
     "shell.execute_reply": "2023-04-21T05:41:52.846601Z"
    },
    "papermill": {
     "duration": 0.073392,
     "end_time": "2023-04-21T05:41:52.853361",
     "exception": false,
     "start_time": "2023-04-21T05:41:52.779969",
     "status": "completed"
    },
    "tags": []
   },
   "outputs": [
    {
     "data": {
      "text/plain": [
       "0.4252055889923124"
      ]
     },
     "execution_count": 77,
     "metadata": {},
     "output_type": "execute_result"
    }
   ],
   "source": [
    "LR.score(X_train,y_train)"
   ]
  },
  {
   "cell_type": "code",
   "execution_count": 78,
   "id": "f67c99de",
   "metadata": {
    "execution": {
     "iopub.execute_input": "2023-04-21T05:41:53.012798Z",
     "iopub.status.busy": "2023-04-21T05:41:53.012335Z",
     "iopub.status.idle": "2023-04-21T05:41:53.028099Z",
     "shell.execute_reply": "2023-04-21T05:41:53.025788Z"
    },
    "papermill": {
     "duration": 0.06855,
     "end_time": "2023-04-21T05:41:53.032937",
     "exception": false,
     "start_time": "2023-04-21T05:41:52.964387",
     "status": "completed"
    },
    "tags": []
   },
   "outputs": [
    {
     "data": {
      "text/plain": [
       "0.39087566809586693"
      ]
     },
     "execution_count": 78,
     "metadata": {},
     "output_type": "execute_result"
    }
   ],
   "source": [
    "LR.score(X_test, y_test)"
   ]
  },
  {
   "cell_type": "code",
   "execution_count": 79,
   "id": "0f2107dd",
   "metadata": {
    "execution": {
     "iopub.execute_input": "2023-04-21T05:41:53.194992Z",
     "iopub.status.busy": "2023-04-21T05:41:53.194601Z",
     "iopub.status.idle": "2023-04-21T05:41:53.202656Z",
     "shell.execute_reply": "2023-04-21T05:41:53.200960Z"
    },
    "papermill": {
     "duration": 0.060226,
     "end_time": "2023-04-21T05:41:53.207108",
     "exception": false,
     "start_time": "2023-04-21T05:41:53.146882",
     "status": "completed"
    },
    "tags": []
   },
   "outputs": [],
   "source": [
    "y_pred = LR.predict(X_test)"
   ]
  },
  {
   "cell_type": "code",
   "execution_count": 80,
   "id": "2c789100",
   "metadata": {
    "execution": {
     "iopub.execute_input": "2023-04-21T05:41:53.372355Z",
     "iopub.status.busy": "2023-04-21T05:41:53.371905Z",
     "iopub.status.idle": "2023-04-21T05:41:53.775483Z",
     "shell.execute_reply": "2023-04-21T05:41:53.773689Z"
    },
    "papermill": {
     "duration": 0.45718,
     "end_time": "2023-04-21T05:41:53.780992",
     "exception": false,
     "start_time": "2023-04-21T05:41:53.323812",
     "status": "completed"
    },
    "tags": []
   },
   "outputs": [
    {
     "name": "stdout",
     "output_type": "stream",
     "text": [
      "                                   feature        VIF\n",
      "3                      company_location_US  49.944235\n",
      "1                    employee_residence_US  48.142856\n",
      "8                       employment_type_FT  44.880736\n",
      "18                         work_year__2023  17.324186\n",
      "0                      salary_currency_USD  16.305314\n",
      "17                         work_year__2022  16.175317\n",
      "10                          company_size_M   7.913637\n",
      "6                      experience_level_SE   7.895316\n",
      "16                         work_year__2021   3.741925\n",
      "5                      experience_level_MI   3.646663\n",
      "15                      company_size_Other   3.193870\n",
      "12              company_size_Data Engineer   2.532494\n",
      "13             company_size_Data Scientist   2.357943\n",
      "2                             remote_ratio   2.237897\n",
      "14  company_size_Machine Learning Engineer   1.537241\n",
      "4                      experience_level_EX   1.434977\n",
      "11                          company_size_S   1.397395\n",
      "9                       employment_type_PT   1.274245\n",
      "7                       employment_type_FL   1.244883\n"
     ]
    }
   ],
   "source": [
    "from statsmodels.stats.outliers_influence import variance_inflation_factor\n",
    "  \n",
    "\n",
    "# VIF dataframe\n",
    "vif_data = pd.DataFrame()\n",
    "vif_data[\"feature\"] = X.columns\n",
    "  \n",
    "# calculating VIF for each feature\n",
    "vif_data[\"VIF\"] = [variance_inflation_factor(X.values, i)\n",
    "                          for i in range(len(X.columns))]\n",
    "  \n",
    "print(vif_data.sort_values(by='VIF',ascending=False))"
   ]
  },
  {
   "cell_type": "markdown",
   "id": "08f90587",
   "metadata": {
    "papermill": {
     "duration": 0.046103,
     "end_time": "2023-04-21T05:41:53.935949",
     "exception": false,
     "start_time": "2023-04-21T05:41:53.889846",
     "status": "completed"
    },
    "tags": []
   },
   "source": [
    "###  Feature Selection"
   ]
  },
  {
   "cell_type": "code",
   "execution_count": 81,
   "id": "3d164b7f",
   "metadata": {
    "execution": {
     "iopub.execute_input": "2023-04-21T05:41:54.032462Z",
     "iopub.status.busy": "2023-04-21T05:41:54.032046Z",
     "iopub.status.idle": "2023-04-21T05:41:54.335274Z",
     "shell.execute_reply": "2023-04-21T05:41:54.334034Z"
    },
    "papermill": {
     "duration": 0.355867,
     "end_time": "2023-04-21T05:41:54.338262",
     "exception": false,
     "start_time": "2023-04-21T05:41:53.982395",
     "status": "completed"
    },
    "tags": []
   },
   "outputs": [],
   "source": [
    "from sklearn.ensemble import RandomForestClassifier\n",
    "from sklearn.feature_selection import SelectFromModel"
   ]
  },
  {
   "cell_type": "code",
   "execution_count": 82,
   "id": "2c55389b",
   "metadata": {
    "execution": {
     "iopub.execute_input": "2023-04-21T05:41:54.433908Z",
     "iopub.status.busy": "2023-04-21T05:41:54.432770Z",
     "iopub.status.idle": "2023-04-21T05:41:55.590013Z",
     "shell.execute_reply": "2023-04-21T05:41:55.588637Z"
    },
    "papermill": {
     "duration": 1.207013,
     "end_time": "2023-04-21T05:41:55.592625",
     "exception": false,
     "start_time": "2023-04-21T05:41:54.385612",
     "status": "completed"
    },
    "tags": []
   },
   "outputs": [
    {
     "data": {
      "text/plain": [
       "SelectFromModel(estimator=RandomForestClassifier())"
      ]
     },
     "execution_count": 82,
     "metadata": {},
     "output_type": "execute_result"
    }
   ],
   "source": [
    "sel = SelectFromModel(RandomForestClassifier(n_estimators = 100))\n",
    "sel.fit(X_train, y_train)"
   ]
  },
  {
   "cell_type": "code",
   "execution_count": 83,
   "id": "56d70096",
   "metadata": {
    "execution": {
     "iopub.execute_input": "2023-04-21T05:41:55.688349Z",
     "iopub.status.busy": "2023-04-21T05:41:55.687890Z",
     "iopub.status.idle": "2023-04-21T05:41:55.723260Z",
     "shell.execute_reply": "2023-04-21T05:41:55.721515Z"
    },
    "papermill": {
     "duration": 0.08762,
     "end_time": "2023-04-21T05:41:55.726127",
     "exception": false,
     "start_time": "2023-04-21T05:41:55.638507",
     "status": "completed"
    },
    "tags": []
   },
   "outputs": [
    {
     "data": {
      "text/plain": [
       "array([False, False,  True, False, False,  True,  True, False, False,\n",
       "       False,  True,  True,  True,  True, False,  True, False,  True,\n",
       "       False])"
      ]
     },
     "execution_count": 83,
     "metadata": {},
     "output_type": "execute_result"
    }
   ],
   "source": [
    "sel.get_support()"
   ]
  },
  {
   "cell_type": "code",
   "execution_count": 84,
   "id": "ae536e53",
   "metadata": {
    "execution": {
     "iopub.execute_input": "2023-04-21T05:41:55.823849Z",
     "iopub.status.busy": "2023-04-21T05:41:55.823144Z",
     "iopub.status.idle": "2023-04-21T05:41:55.851518Z",
     "shell.execute_reply": "2023-04-21T05:41:55.850633Z"
    },
    "papermill": {
     "duration": 0.080144,
     "end_time": "2023-04-21T05:41:55.854005",
     "exception": false,
     "start_time": "2023-04-21T05:41:55.773861",
     "status": "completed"
    },
    "tags": []
   },
   "outputs": [
    {
     "data": {
      "text/plain": [
       "Index(['remote_ratio', 'experience_level_MI', 'experience_level_SE',\n",
       "       'company_size_M', 'company_size_S', 'company_size_Data Engineer',\n",
       "       'company_size_Data Scientist', 'company_size_Other', 'work_year__2022'],\n",
       "      dtype='object')"
      ]
     },
     "execution_count": 84,
     "metadata": {},
     "output_type": "execute_result"
    }
   ],
   "source": [
    "selected_feat= X_train.columns[(sel.get_support())]\n",
    "len(selected_feat)\n",
    "selected_feat"
   ]
  },
  {
   "cell_type": "markdown",
   "id": "792467e8",
   "metadata": {
    "execution": {
     "iopub.execute_input": "2023-04-21T03:29:28.900660Z",
     "iopub.status.busy": "2023-04-21T03:29:28.900231Z",
     "iopub.status.idle": "2023-04-21T03:29:28.905106Z",
     "shell.execute_reply": "2023-04-21T03:29:28.904143Z",
     "shell.execute_reply.started": "2023-04-21T03:29:28.900623Z"
    },
    "papermill": {
     "duration": 0.047166,
     "end_time": "2023-04-21T05:41:55.947900",
     "exception": false,
     "start_time": "2023-04-21T05:41:55.900734",
     "status": "completed"
    },
    "tags": []
   },
   "source": [
    "# New model using features given by Random Forest"
   ]
  },
  {
   "cell_type": "code",
   "execution_count": 85,
   "id": "b7542cd2",
   "metadata": {
    "execution": {
     "iopub.execute_input": "2023-04-21T05:41:56.046743Z",
     "iopub.status.busy": "2023-04-21T05:41:56.046000Z",
     "iopub.status.idle": "2023-04-21T05:41:56.052430Z",
     "shell.execute_reply": "2023-04-21T05:41:56.051271Z"
    },
    "papermill": {
     "duration": 0.05927,
     "end_time": "2023-04-21T05:41:56.055333",
     "exception": false,
     "start_time": "2023-04-21T05:41:55.996063",
     "status": "completed"
    },
    "tags": []
   },
   "outputs": [],
   "source": [
    "X=data[['remote_ratio', 'experience_level_MI', 'experience_level_SE',\n",
    "       'company_size_M', 'company_size_S', 'company_size_Data Engineer',\n",
    "       'company_size_Data Scientist', 'company_size_Other', 'work_year__2022']]\n",
    "y=data['salary_in_usd']"
   ]
  },
  {
   "cell_type": "code",
   "execution_count": 86,
   "id": "c18b75de",
   "metadata": {
    "execution": {
     "iopub.execute_input": "2023-04-21T05:41:56.151601Z",
     "iopub.status.busy": "2023-04-21T05:41:56.150954Z",
     "iopub.status.idle": "2023-04-21T05:41:56.156992Z",
     "shell.execute_reply": "2023-04-21T05:41:56.156159Z"
    },
    "papermill": {
     "duration": 0.057121,
     "end_time": "2023-04-21T05:41:56.159298",
     "exception": false,
     "start_time": "2023-04-21T05:41:56.102177",
     "status": "completed"
    },
    "tags": []
   },
   "outputs": [],
   "source": [
    "from sklearn.model_selection import train_test_split\n",
    "X_train,X_test,y_train,y_test = train_test_split(X,y,train_size=0.7,random_state=42)"
   ]
  },
  {
   "cell_type": "code",
   "execution_count": 87,
   "id": "68ad1f6d",
   "metadata": {
    "execution": {
     "iopub.execute_input": "2023-04-21T05:41:56.256914Z",
     "iopub.status.busy": "2023-04-21T05:41:56.256237Z",
     "iopub.status.idle": "2023-04-21T05:41:56.262591Z",
     "shell.execute_reply": "2023-04-21T05:41:56.261183Z"
    },
    "papermill": {
     "duration": 0.058428,
     "end_time": "2023-04-21T05:41:56.265375",
     "exception": false,
     "start_time": "2023-04-21T05:41:56.206947",
     "status": "completed"
    },
    "tags": []
   },
   "outputs": [
    {
     "name": "stdout",
     "output_type": "stream",
     "text": [
      "X_train.shape :  (1808, 9) \n",
      "X_test.shape  :  (776, 9) \n",
      "y_train.shape :  (1808,) \n",
      "y_test.shape  :  (776,)\n"
     ]
    }
   ],
   "source": [
    "print('X_train.shape : ',X_train.shape,'\\nX_test.shape  : ',X_test.shape,'\\ny_train.shape : ',y_train.shape,'\\ny_test.shape  : ',y_test.shape )"
   ]
  },
  {
   "cell_type": "code",
   "execution_count": 88,
   "id": "62697cc5",
   "metadata": {
    "execution": {
     "iopub.execute_input": "2023-04-21T05:41:56.362314Z",
     "iopub.status.busy": "2023-04-21T05:41:56.361889Z",
     "iopub.status.idle": "2023-04-21T05:41:56.366923Z",
     "shell.execute_reply": "2023-04-21T05:41:56.365659Z"
    },
    "papermill": {
     "duration": 0.056241,
     "end_time": "2023-04-21T05:41:56.369338",
     "exception": false,
     "start_time": "2023-04-21T05:41:56.313097",
     "status": "completed"
    },
    "tags": []
   },
   "outputs": [],
   "source": [
    "from sklearn.linear_model import LinearRegression\n",
    "LR = LinearRegression()"
   ]
  },
  {
   "cell_type": "code",
   "execution_count": 89,
   "id": "c0f3f78a",
   "metadata": {
    "execution": {
     "iopub.execute_input": "2023-04-21T05:41:56.464633Z",
     "iopub.status.busy": "2023-04-21T05:41:56.464209Z",
     "iopub.status.idle": "2023-04-21T05:41:56.473271Z",
     "shell.execute_reply": "2023-04-21T05:41:56.472362Z"
    },
    "papermill": {
     "duration": 0.063127,
     "end_time": "2023-04-21T05:41:56.478932",
     "exception": false,
     "start_time": "2023-04-21T05:41:56.415805",
     "status": "completed"
    },
    "tags": []
   },
   "outputs": [
    {
     "data": {
      "text/plain": [
       "LinearRegression()"
      ]
     },
     "execution_count": 89,
     "metadata": {},
     "output_type": "execute_result"
    }
   ],
   "source": [
    "LR.fit(X_train,y_train)"
   ]
  },
  {
   "cell_type": "code",
   "execution_count": 90,
   "id": "55a73425",
   "metadata": {
    "execution": {
     "iopub.execute_input": "2023-04-21T05:41:56.596853Z",
     "iopub.status.busy": "2023-04-21T05:41:56.596447Z",
     "iopub.status.idle": "2023-04-21T05:41:56.609082Z",
     "shell.execute_reply": "2023-04-21T05:41:56.607345Z"
    },
    "papermill": {
     "duration": 0.06937,
     "end_time": "2023-04-21T05:41:56.616581",
     "exception": false,
     "start_time": "2023-04-21T05:41:56.547211",
     "status": "completed"
    },
    "tags": []
   },
   "outputs": [
    {
     "data": {
      "text/plain": [
       "0.18766631535147316"
      ]
     },
     "execution_count": 90,
     "metadata": {},
     "output_type": "execute_result"
    }
   ],
   "source": [
    "LR.score(X_train,y_train)"
   ]
  },
  {
   "cell_type": "code",
   "execution_count": 91,
   "id": "2ac2d341",
   "metadata": {
    "execution": {
     "iopub.execute_input": "2023-04-21T05:41:56.778966Z",
     "iopub.status.busy": "2023-04-21T05:41:56.778542Z",
     "iopub.status.idle": "2023-04-21T05:41:56.788487Z",
     "shell.execute_reply": "2023-04-21T05:41:56.787160Z"
    },
    "papermill": {
     "duration": 0.06157,
     "end_time": "2023-04-21T05:41:56.791402",
     "exception": false,
     "start_time": "2023-04-21T05:41:56.729832",
     "status": "completed"
    },
    "tags": []
   },
   "outputs": [
    {
     "data": {
      "text/plain": [
       "0.18759585655855227"
      ]
     },
     "execution_count": 91,
     "metadata": {},
     "output_type": "execute_result"
    }
   ],
   "source": [
    "LR.score(X_test, y_test)"
   ]
  },
  {
   "cell_type": "markdown",
   "id": "93d8c7ea",
   "metadata": {
    "papermill": {
     "duration": 0.048542,
     "end_time": "2023-04-21T05:41:56.887748",
     "exception": false,
     "start_time": "2023-04-21T05:41:56.839206",
     "status": "completed"
    },
    "tags": []
   },
   "source": [
    "###  Multicolinearity Check"
   ]
  },
  {
   "cell_type": "code",
   "execution_count": 92,
   "id": "eb828fc3",
   "metadata": {
    "execution": {
     "iopub.execute_input": "2023-04-21T05:41:56.986672Z",
     "iopub.status.busy": "2023-04-21T05:41:56.986258Z",
     "iopub.status.idle": "2023-04-21T05:41:57.048196Z",
     "shell.execute_reply": "2023-04-21T05:41:57.046798Z"
    },
    "papermill": {
     "duration": 0.117382,
     "end_time": "2023-04-21T05:41:57.052823",
     "exception": false,
     "start_time": "2023-04-21T05:41:56.935441",
     "status": "completed"
    },
    "tags": []
   },
   "outputs": [
    {
     "name": "stdout",
     "output_type": "stream",
     "text": [
      "                       feature       VIF\n",
      "3               company_size_M  4.711069\n",
      "2          experience_level_SE  4.286401\n",
      "1          experience_level_MI  2.158602\n",
      "0                 remote_ratio  2.018442\n",
      "7           company_size_Other  1.939376\n",
      "8              work_year__2022  1.782726\n",
      "5   company_size_Data Engineer  1.761181\n",
      "6  company_size_Data Scientist  1.649842\n",
      "4               company_size_S  1.212210\n"
     ]
    }
   ],
   "source": [
    "from statsmodels.stats.outliers_influence import variance_inflation_factor\n",
    "  \n",
    "\n",
    "# VIF dataframe\n",
    "vif_data = pd.DataFrame()\n",
    "vif_data[\"feature\"] = X.columns\n",
    "  \n",
    "# calculating VIF for each feature\n",
    "vif_data[\"VIF\"] = [variance_inflation_factor(X.values, i)\n",
    "                          for i in range(len(X.columns))]\n",
    "  \n",
    "print(vif_data.sort_values(by='VIF',ascending=False))"
   ]
  },
  {
   "cell_type": "markdown",
   "id": "b614ad60",
   "metadata": {
    "papermill": {
     "duration": 0.047304,
     "end_time": "2023-04-21T05:41:57.218389",
     "exception": false,
     "start_time": "2023-04-21T05:41:57.171085",
     "status": "completed"
    },
    "tags": []
   },
   "source": [
    "# 4. Conclusion\n",
    "- The accuracy is low \n",
    "- X and y might not be linear in parameter\n",
    "- There might be problem of Heteroscadasticity we have to check on it"
   ]
  }
 ],
 "metadata": {
  "kernelspec": {
   "display_name": "Python 3 (ipykernel)",
   "language": "python",
   "name": "python3"
  },
  "language_info": {
   "codemirror_mode": {
    "name": "ipython",
    "version": 3
   },
   "file_extension": ".py",
   "mimetype": "text/x-python",
   "name": "python",
   "nbconvert_exporter": "python",
   "pygments_lexer": "ipython3",
   "version": "3.9.7"
  },
  "papermill": {
   "default_parameters": {},
   "duration": 40.184485,
   "end_time": "2023-04-21T05:41:58.389028",
   "environment_variables": {},
   "exception": null,
   "input_path": "__notebook__.ipynb",
   "output_path": "__notebook__.ipynb",
   "parameters": {},
   "start_time": "2023-04-21T05:41:18.204543",
   "version": "2.4.0"
  }
 },
 "nbformat": 4,
 "nbformat_minor": 5
}
